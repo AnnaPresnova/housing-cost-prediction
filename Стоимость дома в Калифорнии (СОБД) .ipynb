{
 "cells": [
  {
   "cell_type": "markdown",
   "id": "GEqQaHzsZ_bA",
   "metadata": {
    "id": "GEqQaHzsZ_bA"
   },
   "source": [
    "# ПРОЕКТ Предсказание стоимости жилья\n",
    "\n",
    "В проекте нам нужно обучить модель линейной регрессии на данных о жилье в Калифорнии в 1990 году. На основе данных нужно предсказать медианную стоимость дома в жилом массиве. Обучим модель и сделаем предсказания на тестовой выборке. Для оценки качества модели используем метрики RMSE, MAE и R2."
   ]
  },
  {
   "cell_type": "markdown",
   "id": "54354dbf",
   "metadata": {},
   "source": [
    "**В колонках датасета содержатся следующие данные**\n",
    "\n",
    "longitude — широта;\n",
    "\n",
    "latitude — долгота;\n",
    "\n",
    "housing_median_age — медианный возраст жителей жилого массива;\n",
    "\n",
    "total_rooms — общее количество комнат в домах жилого массива;\n",
    "\n",
    "total_bedrooms — общее количество спален в домах жилого массива;\n",
    "\n",
    "population — количество человек, которые проживают в жилом массиве;\n",
    "\n",
    "households — количество домовладений в жилом массиве;\n",
    "\n",
    "median_income — медианный доход жителей жилого массива;\n",
    "\n",
    "median_house_value — медианная стоимость дома в жилом массиве;\n",
    "\n",
    "ocean_proximity — близость к океану."
   ]
  },
  {
   "cell_type": "code",
   "execution_count": 1,
   "id": "47d866bd",
   "metadata": {},
   "outputs": [],
   "source": [
    "# импортируем необходимые библиотеки\n",
    "\n",
    "import pandas as pd \n",
    "\n",
    "import numpy as np\n",
    "\n",
    "from pyspark.sql.types import *\n",
    "\n",
    "import pyspark.sql.functions as F\n",
    "\n",
    "import matplotlib.pyplot as plt\n",
    "\n",
    "import seaborn as sns\n",
    "\n",
    "from pyspark.ml.feature import StringIndexer, VectorAssembler, StandardScaler\n",
    "\n",
    "from pyspark.ml.regression import LinearRegression\n",
    "\n",
    "from pyspark.ml.evaluation import RegressionEvaluator\n",
    "\n",
    "from pyspark.sql.functions import mean\n",
    "\n",
    "RANDOM_SEED = 2022\n"
   ]
  },
  {
   "cell_type": "markdown",
   "id": "53871372",
   "metadata": {
    "id": "53871372"
   },
   "source": [
    "# Подготовка данных"
   ]
  },
  {
   "cell_type": "code",
   "execution_count": 2,
   "id": "df92e3ec",
   "metadata": {
    "id": "df92e3ec"
   },
   "outputs": [],
   "source": [
    "# инициализируем локальную Spark-сессию\n",
    "\n",
    "import pyspark\n",
    "\n",
    "from pyspark.sql import SparkSession\n",
    "\n",
    "spark = SparkSession.builder.appName(\"Python Spark SQL basic example\").getOrCreate()\n"
   ]
  },
  {
   "cell_type": "code",
   "execution_count": 3,
   "id": "263be22e",
   "metadata": {},
   "outputs": [
    {
     "name": "stderr",
     "output_type": "stream",
     "text": [
      "                                                                                \r"
     ]
    }
   ],
   "source": [
    "# прочитаем содержимое файла\n",
    "\n",
    "data = spark.read.load('/datasets/housing.csv', format='csv', sep=\",\", inferSchema=True, header=\"true\")"
   ]
  },
  {
   "cell_type": "code",
   "execution_count": 4,
   "id": "8bc00ff0",
   "metadata": {
    "scrolled": true
   },
   "outputs": [
    {
     "name": "stdout",
     "output_type": "stream",
     "text": [
      "+---------+--------+------------------+-----------+--------------+----------+----------+-------------+------------------+---------------+\n",
      "|longitude|latitude|housing_median_age|total_rooms|total_bedrooms|population|households|median_income|median_house_value|ocean_proximity|\n",
      "+---------+--------+------------------+-----------+--------------+----------+----------+-------------+------------------+---------------+\n",
      "|  -122.23|   37.88|              41.0|      880.0|         129.0|     322.0|     126.0|       8.3252|          452600.0|       NEAR BAY|\n",
      "|  -122.22|   37.86|              21.0|     7099.0|        1106.0|    2401.0|    1138.0|       8.3014|          358500.0|       NEAR BAY|\n",
      "|  -122.24|   37.85|              52.0|     1467.0|         190.0|     496.0|     177.0|       7.2574|          352100.0|       NEAR BAY|\n",
      "|  -122.25|   37.85|              52.0|     1274.0|         235.0|     558.0|     219.0|       5.6431|          341300.0|       NEAR BAY|\n",
      "|  -122.25|   37.85|              52.0|     1627.0|         280.0|     565.0|     259.0|       3.8462|          342200.0|       NEAR BAY|\n",
      "+---------+--------+------------------+-----------+--------------+----------+----------+-------------+------------------+---------------+\n",
      "only showing top 5 rows\n",
      "\n",
      "               column    type\n",
      "0           longitude  double\n",
      "1            latitude  double\n",
      "2  housing_median_age  double\n",
      "3         total_rooms  double\n",
      "4      total_bedrooms  double\n",
      "5          population  double\n",
      "6          households  double\n",
      "7       median_income  double\n",
      "8  median_house_value  double\n",
      "9     ocean_proximity  string\n"
     ]
    }
   ],
   "source": [
    "# выведем на экран первые пять строк\n",
    "\n",
    "data.show(5)\n",
    "\n",
    "# выведим названия колонок \n",
    "\n",
    "print(pd.DataFrame(data.dtypes, columns=['column', 'type']))"
   ]
  },
  {
   "cell_type": "code",
   "execution_count": 5,
   "id": "2cba2ce3",
   "metadata": {
    "scrolled": true
   },
   "outputs": [
    {
     "name": "stdout",
     "output_type": "stream",
     "text": [
      "root\n",
      " |-- longitude: double (nullable = true)\n",
      " |-- latitude: double (nullable = true)\n",
      " |-- housing_median_age: double (nullable = true)\n",
      " |-- total_rooms: double (nullable = true)\n",
      " |-- total_bedrooms: double (nullable = true)\n",
      " |-- population: double (nullable = true)\n",
      " |-- households: double (nullable = true)\n",
      " |-- median_income: double (nullable = true)\n",
      " |-- median_house_value: double (nullable = true)\n",
      " |-- ocean_proximity: string (nullable = true)\n",
      "\n"
     ]
    }
   ],
   "source": [
    "data.printSchema()"
   ]
  },
  {
   "cell_type": "code",
   "execution_count": 6,
   "id": "ed746482",
   "metadata": {
    "scrolled": true
   },
   "outputs": [
    {
     "name": "stderr",
     "output_type": "stream",
     "text": [
      "                                                                                \r"
     ]
    },
    {
     "data": {
      "text/html": [
       "<div>\n",
       "<style scoped>\n",
       "    .dataframe tbody tr th:only-of-type {\n",
       "        vertical-align: middle;\n",
       "    }\n",
       "\n",
       "    .dataframe tbody tr th {\n",
       "        vertical-align: top;\n",
       "    }\n",
       "\n",
       "    .dataframe thead th {\n",
       "        text-align: right;\n",
       "    }\n",
       "</style>\n",
       "<table border=\"1\" class=\"dataframe\">\n",
       "  <thead>\n",
       "    <tr style=\"text-align: right;\">\n",
       "      <th></th>\n",
       "      <th>summary</th>\n",
       "      <th>longitude</th>\n",
       "      <th>latitude</th>\n",
       "      <th>housing_median_age</th>\n",
       "      <th>total_rooms</th>\n",
       "      <th>total_bedrooms</th>\n",
       "      <th>population</th>\n",
       "      <th>households</th>\n",
       "      <th>median_income</th>\n",
       "      <th>median_house_value</th>\n",
       "      <th>ocean_proximity</th>\n",
       "    </tr>\n",
       "  </thead>\n",
       "  <tbody>\n",
       "    <tr>\n",
       "      <th>0</th>\n",
       "      <td>count</td>\n",
       "      <td>20640</td>\n",
       "      <td>20640</td>\n",
       "      <td>20640</td>\n",
       "      <td>20640</td>\n",
       "      <td>20433</td>\n",
       "      <td>20640</td>\n",
       "      <td>20640</td>\n",
       "      <td>20640</td>\n",
       "      <td>20640</td>\n",
       "      <td>20640</td>\n",
       "    </tr>\n",
       "    <tr>\n",
       "      <th>1</th>\n",
       "      <td>mean</td>\n",
       "      <td>-119.56970445736148</td>\n",
       "      <td>35.6318614341087</td>\n",
       "      <td>28.639486434108527</td>\n",
       "      <td>2635.7630813953488</td>\n",
       "      <td>537.8705525375618</td>\n",
       "      <td>1425.4767441860465</td>\n",
       "      <td>499.5396802325581</td>\n",
       "      <td>3.8706710029070246</td>\n",
       "      <td>206855.81690891474</td>\n",
       "      <td>None</td>\n",
       "    </tr>\n",
       "    <tr>\n",
       "      <th>2</th>\n",
       "      <td>stddev</td>\n",
       "      <td>2.003531723502584</td>\n",
       "      <td>2.135952397457101</td>\n",
       "      <td>12.58555761211163</td>\n",
       "      <td>2181.6152515827944</td>\n",
       "      <td>421.38507007403115</td>\n",
       "      <td>1132.46212176534</td>\n",
       "      <td>382.3297528316098</td>\n",
       "      <td>1.899821717945263</td>\n",
       "      <td>115395.61587441359</td>\n",
       "      <td>None</td>\n",
       "    </tr>\n",
       "    <tr>\n",
       "      <th>3</th>\n",
       "      <td>min</td>\n",
       "      <td>-124.35</td>\n",
       "      <td>32.54</td>\n",
       "      <td>1.0</td>\n",
       "      <td>2.0</td>\n",
       "      <td>1.0</td>\n",
       "      <td>3.0</td>\n",
       "      <td>1.0</td>\n",
       "      <td>0.4999</td>\n",
       "      <td>14999.0</td>\n",
       "      <td>&lt;1H OCEAN</td>\n",
       "    </tr>\n",
       "    <tr>\n",
       "      <th>4</th>\n",
       "      <td>max</td>\n",
       "      <td>-114.31</td>\n",
       "      <td>41.95</td>\n",
       "      <td>52.0</td>\n",
       "      <td>39320.0</td>\n",
       "      <td>6445.0</td>\n",
       "      <td>35682.0</td>\n",
       "      <td>6082.0</td>\n",
       "      <td>15.0001</td>\n",
       "      <td>500001.0</td>\n",
       "      <td>NEAR OCEAN</td>\n",
       "    </tr>\n",
       "  </tbody>\n",
       "</table>\n",
       "</div>"
      ],
      "text/plain": [
       "  summary            longitude           latitude  housing_median_age  \\\n",
       "0   count                20640              20640               20640   \n",
       "1    mean  -119.56970445736148   35.6318614341087  28.639486434108527   \n",
       "2  stddev    2.003531723502584  2.135952397457101   12.58555761211163   \n",
       "3     min              -124.35              32.54                 1.0   \n",
       "4     max              -114.31              41.95                52.0   \n",
       "\n",
       "          total_rooms      total_bedrooms          population  \\\n",
       "0               20640               20433               20640   \n",
       "1  2635.7630813953488   537.8705525375618  1425.4767441860465   \n",
       "2  2181.6152515827944  421.38507007403115    1132.46212176534   \n",
       "3                 2.0                 1.0                 3.0   \n",
       "4             39320.0              6445.0             35682.0   \n",
       "\n",
       "          households       median_income  median_house_value ocean_proximity  \n",
       "0              20640               20640               20640           20640  \n",
       "1  499.5396802325581  3.8706710029070246  206855.81690891474            None  \n",
       "2  382.3297528316098   1.899821717945263  115395.61587441359            None  \n",
       "3                1.0              0.4999             14999.0       <1H OCEAN  \n",
       "4             6082.0             15.0001            500001.0      NEAR OCEAN  "
      ]
     },
     "execution_count": 6,
     "metadata": {},
     "output_type": "execute_result"
    }
   ],
   "source": [
    "# выведим базовые статистики\n",
    "\n",
    "data.describe().toPandas()"
   ]
  },
  {
   "cell_type": "markdown",
   "id": "6b2cf510",
   "metadata": {},
   "source": [
    "В датасете 20_640 строк. В жилых массивах Калифорнии проживает преимущественно молодое население - медианный возраст жителей от  1 до 52 лет, со средним медианным возрастом 28 лет. Общее количество комнат находится в диапазоне от 2 до 39 320. По условию задачи, это имеется ввиду общее количество комнат в домах жилого массива,  то же самое касается и количества спален - от 1 до 6445. Количество домовладений в каждом жилом массиве варьируется от 1 до 6082, с медианным значением, равным 500 домовладений на один массив. Средний медианный доход жителей составляет почти 4 дол(от 0.5 дол до 15 дол), а средняя медианная стоимость дома почти 207 тыс дол(от 15 тыс дол до 500 тыс дол). По поводу близости к океану - жилые массивы расположены не более, чем в часе езды до океана или около залива."
   ]
  },
  {
   "cell_type": "markdown",
   "id": "3ee07f14",
   "metadata": {},
   "source": [
    "## Предобработка данных"
   ]
  },
  {
   "cell_type": "markdown",
   "id": "bd159961",
   "metadata": {},
   "source": [
    "Исследуем данные на наличие пропусков и заполним их."
   ]
  },
  {
   "cell_type": "code",
   "execution_count": 7,
   "id": "ca47b9a0",
   "metadata": {
    "scrolled": true
   },
   "outputs": [
    {
     "name": "stdout",
     "output_type": "stream",
     "text": [
      "longitude 0\n",
      "latitude 0\n",
      "housing_median_age 0\n",
      "total_rooms 0\n",
      "total_bedrooms 207\n",
      "population 0\n",
      "households 0\n",
      "median_income 0\n",
      "median_house_value 0\n",
      "ocean_proximity 0\n"
     ]
    }
   ],
   "source": [
    "# выведим пропущенные значения в каждой колонке\n",
    "\n",
    "columns = data.columns\n",
    "\n",
    "for column in columns:\n",
    "    print(column, data.filter(data[column].isNull()).count())"
   ]
  },
  {
   "cell_type": "markdown",
   "id": "61d5fc75",
   "metadata": {},
   "source": [
    "Пропущенные значения имеются в одной колонке - количество спальных комнат. Пропущенные значения заменим на среднее."
   ]
  },
  {
   "cell_type": "code",
   "execution_count": 8,
   "id": "f0844404",
   "metadata": {},
   "outputs": [],
   "source": [
    "# пропущенные значения заменяем средним значением\n",
    "\n",
    "data = data.na.fill(data.select(F.mean(data['total_bedrooms'])).collect()[0][0])"
   ]
  },
  {
   "cell_type": "code",
   "execution_count": 10,
   "id": "a0b51b39",
   "metadata": {
    "scrolled": false
   },
   "outputs": [
    {
     "name": "stdout",
     "output_type": "stream",
     "text": [
      "longitude 0\n",
      "latitude 0\n",
      "housing_median_age 0\n",
      "total_rooms 0\n",
      "total_bedrooms 0\n",
      "population 0\n",
      "households 0\n",
      "median_income 0\n",
      "median_house_value 0\n",
      "ocean_proximity 0\n"
     ]
    }
   ],
   "source": [
    "# выведите пропущенные значения в каждой колонке\n",
    "columns = data.columns\n",
    "\n",
    "for column in columns:\n",
    "    print(column, data.filter(data[column].isNull()).count())"
   ]
  },
  {
   "cell_type": "code",
   "execution_count": 11,
   "id": "5b4a1370",
   "metadata": {},
   "outputs": [],
   "source": [
    "# разделим колонки на два типа: числовые и текстовые, которые представляют категориальные данные\n",
    "\n",
    "categorical_cols = [\"ocean_proximity\"]\n",
    "\n",
    "numerical_cols  = [\"housing_median_age\", \"total_rooms\", \"total_bedrooms\", \"population\", \"households\", \"median_income\"]\n",
    "\n",
    "target = \"median_house_value\" \n",
    "    "
   ]
  },
  {
   "cell_type": "code",
   "execution_count": 12,
   "id": "be122266",
   "metadata": {},
   "outputs": [
    {
     "name": "stderr",
     "output_type": "stream",
     "text": [
      "                                                                                \r"
     ]
    },
    {
     "name": "stdout",
     "output_type": "stream",
     "text": [
      "16418 4222\n"
     ]
    }
   ],
   "source": [
    "# разделяем на тренировочную и тестовую выборки\n",
    "\n",
    "train_data, test_data = data.randomSplit([.8,.2], seed=RANDOM_SEED)\n",
    "\n",
    "print(train_data.count(), test_data.count()) "
   ]
  },
  {
   "cell_type": "code",
   "execution_count": 13,
   "id": "5f3a2abe",
   "metadata": {},
   "outputs": [
    {
     "name": "stderr",
     "output_type": "stream",
     "text": [
      "                                                                                \r"
     ]
    },
    {
     "name": "stdout",
     "output_type": "stream",
     "text": [
      "+---------+--------+------------------+-----------+--------------+----------+----------+-------------+------------------+---------------+-------------------+\n",
      "|longitude|latitude|housing_median_age|total_rooms|total_bedrooms|population|households|median_income|median_house_value|ocean_proximity|ocean_proximity_idx|\n",
      "+---------+--------+------------------+-----------+--------------+----------+----------+-------------+------------------+---------------+-------------------+\n",
      "|  -124.35|   40.54|              52.0|     1820.0|         300.0|     806.0|     270.0|       3.0147|           94600.0|     NEAR OCEAN|                2.0|\n",
      "|   -124.3|    41.8|              19.0|     2672.0|         552.0|    1298.0|     478.0|       1.9797|           85800.0|     NEAR OCEAN|                2.0|\n",
      "|  -124.27|   40.69|              36.0|     2349.0|         528.0|    1194.0|     465.0|       2.5179|           79000.0|     NEAR OCEAN|                2.0|\n",
      "+---------+--------+------------------+-----------+--------------+----------+----------+-------------+------------------+---------------+-------------------+\n",
      "only showing top 3 rows\n",
      "\n",
      "+---------+--------+------------------+-----------+--------------+----------+----------+-------------+------------------+---------------+-------------------+\n",
      "|longitude|latitude|housing_median_age|total_rooms|total_bedrooms|population|households|median_income|median_house_value|ocean_proximity|ocean_proximity_idx|\n",
      "+---------+--------+------------------+-----------+--------------+----------+----------+-------------+------------------+---------------+-------------------+\n",
      "|   -124.3|   41.84|              17.0|     2677.0|         531.0|    1244.0|     456.0|       3.0313|          103600.0|     NEAR OCEAN|                2.0|\n",
      "|  -124.23|   40.81|              52.0|     1112.0|         209.0|     544.0|     172.0|       3.3462|           50800.0|     NEAR OCEAN|                2.0|\n",
      "|  -124.21|   40.75|              32.0|     1218.0|         331.0|     620.0|     268.0|       1.6528|           58100.0|     NEAR OCEAN|                2.0|\n",
      "+---------+--------+------------------+-----------+--------------+----------+----------+-------------+------------------+---------------+-------------------+\n",
      "only showing top 3 rows\n",
      "\n"
     ]
    }
   ],
   "source": [
    "# трансформируем категориальный признак с помощью трансформера StringIndexer (чтобы перевел string в числовое представление)\n",
    "\n",
    "indexer = StringIndexer(inputCols=categorical_cols, \n",
    "                        outputCols=[c+'_idx' for c in categorical_cols], handleInvalid=\"skip\") \n",
    "\n",
    "data_indexer = indexer.fit(train_data)\n",
    "\n",
    "train_data = data_indexer.transform(train_data)\n",
    "\n",
    "test_data = data_indexer.transform(test_data)\n",
    "\n",
    "train_data.show(3)\n",
    "\n",
    "test_data.show(3)\n"
   ]
  },
  {
   "cell_type": "markdown",
   "id": "a88b6c87",
   "metadata": {},
   "source": [
    "Дополнительно создаем Ohe кодирование с помощью One hot encoding."
   ]
  },
  {
   "cell_type": "code",
   "execution_count": 14,
   "id": "19a39ccb",
   "metadata": {
    "collapsed": true
   },
   "outputs": [
    {
     "name": "stdout",
     "output_type": "stream",
     "text": [
      "+---------+--------+------------------+-----------+--------------+----------+----------+-------------+------------------+---------------+-------------------+-------------------+\n",
      "|longitude|latitude|housing_median_age|total_rooms|total_bedrooms|population|households|median_income|median_house_value|ocean_proximity|ocean_proximity_idx|ocean_proximity_ohe|\n",
      "+---------+--------+------------------+-----------+--------------+----------+----------+-------------+------------------+---------------+-------------------+-------------------+\n",
      "|  -124.35|   40.54|              52.0|     1820.0|         300.0|     806.0|     270.0|       3.0147|           94600.0|     NEAR OCEAN|                2.0|      (3,[2],[1.0])|\n",
      "|   -124.3|    41.8|              19.0|     2672.0|         552.0|    1298.0|     478.0|       1.9797|           85800.0|     NEAR OCEAN|                2.0|      (3,[2],[1.0])|\n",
      "|  -124.27|   40.69|              36.0|     2349.0|         528.0|    1194.0|     465.0|       2.5179|           79000.0|     NEAR OCEAN|                2.0|      (3,[2],[1.0])|\n",
      "|  -124.26|   40.58|              52.0|     2217.0|         394.0|     907.0|     369.0|       2.3571|          111400.0|     NEAR OCEAN|                2.0|      (3,[2],[1.0])|\n",
      "|  -124.25|   40.28|              32.0|     1430.0|         419.0|     434.0|     187.0|       1.9417|           76100.0|     NEAR OCEAN|                2.0|      (3,[2],[1.0])|\n",
      "+---------+--------+------------------+-----------+--------------+----------+----------+-------------+------------------+---------------+-------------------+-------------------+\n",
      "only showing top 5 rows\n",
      "\n",
      "+---------+--------+------------------+-----------+--------------+----------+----------+-------------+------------------+---------------+-------------------+-------------------+\n",
      "|longitude|latitude|housing_median_age|total_rooms|total_bedrooms|population|households|median_income|median_house_value|ocean_proximity|ocean_proximity_idx|ocean_proximity_ohe|\n",
      "+---------+--------+------------------+-----------+--------------+----------+----------+-------------+------------------+---------------+-------------------+-------------------+\n",
      "|   -124.3|   41.84|              17.0|     2677.0|         531.0|    1244.0|     456.0|       3.0313|          103600.0|     NEAR OCEAN|                2.0|      (3,[2],[1.0])|\n",
      "|  -124.23|   40.81|              52.0|     1112.0|         209.0|     544.0|     172.0|       3.3462|           50800.0|     NEAR OCEAN|                2.0|      (3,[2],[1.0])|\n",
      "|  -124.21|   40.75|              32.0|     1218.0|         331.0|     620.0|     268.0|       1.6528|           58100.0|     NEAR OCEAN|                2.0|      (3,[2],[1.0])|\n",
      "|  -124.21|   41.77|              17.0|     3461.0|         722.0|    1947.0|     647.0|       2.5795|           68400.0|     NEAR OCEAN|                2.0|      (3,[2],[1.0])|\n",
      "|  -124.18|   40.78|              33.0|     1076.0|         222.0|     656.0|     236.0|       2.5096|           72200.0|     NEAR OCEAN|                2.0|      (3,[2],[1.0])|\n",
      "+---------+--------+------------------+-----------+--------------+----------+----------+-------------+------------------+---------------+-------------------+-------------------+\n",
      "only showing top 5 rows\n",
      "\n"
     ]
    }
   ],
   "source": [
    "from pyspark.ml.feature import OneHotEncoder\n",
    "\n",
    "encoder = OneHotEncoder(inputCols=[c+'_idx' for c in categorical_cols],\n",
    "                        outputCols=[c+'_ohe' for c in categorical_cols])\n",
    "\n",
    "data_encoder = encoder.fit(train_data)\n",
    "\n",
    "train_data = data_encoder.transform(train_data)\n",
    "\n",
    "test_data = data_encoder.transform(test_data)\n",
    "\n",
    "train_data.show(5) \n",
    "\n",
    "test_data.show(5) "
   ]
  },
  {
   "cell_type": "code",
   "execution_count": 15,
   "id": "3cc04d9e",
   "metadata": {},
   "outputs": [
    {
     "name": "stdout",
     "output_type": "stream",
     "text": [
      "+---------+--------+------------------+-----------+--------------+----------+----------+-------------+------------------+---------------+-------------------+-------------------+--------------------+\n",
      "|longitude|latitude|housing_median_age|total_rooms|total_bedrooms|population|households|median_income|median_house_value|ocean_proximity|ocean_proximity_idx|ocean_proximity_ohe|categorical_features|\n",
      "+---------+--------+------------------+-----------+--------------+----------+----------+-------------+------------------+---------------+-------------------+-------------------+--------------------+\n",
      "|  -124.35|   40.54|              52.0|     1820.0|         300.0|     806.0|     270.0|       3.0147|           94600.0|     NEAR OCEAN|                2.0|      (3,[2],[1.0])|       [0.0,0.0,1.0]|\n",
      "|   -124.3|    41.8|              19.0|     2672.0|         552.0|    1298.0|     478.0|       1.9797|           85800.0|     NEAR OCEAN|                2.0|      (3,[2],[1.0])|       [0.0,0.0,1.0]|\n",
      "|  -124.27|   40.69|              36.0|     2349.0|         528.0|    1194.0|     465.0|       2.5179|           79000.0|     NEAR OCEAN|                2.0|      (3,[2],[1.0])|       [0.0,0.0,1.0]|\n",
      "|  -124.26|   40.58|              52.0|     2217.0|         394.0|     907.0|     369.0|       2.3571|          111400.0|     NEAR OCEAN|                2.0|      (3,[2],[1.0])|       [0.0,0.0,1.0]|\n",
      "|  -124.25|   40.28|              32.0|     1430.0|         419.0|     434.0|     187.0|       1.9417|           76100.0|     NEAR OCEAN|                2.0|      (3,[2],[1.0])|       [0.0,0.0,1.0]|\n",
      "+---------+--------+------------------+-----------+--------------+----------+----------+-------------+------------------+---------------+-------------------+-------------------+--------------------+\n",
      "only showing top 5 rows\n",
      "\n",
      "+---------+--------+------------------+-----------+--------------+----------+----------+-------------+------------------+---------------+-------------------+-------------------+--------------------+\n",
      "|longitude|latitude|housing_median_age|total_rooms|total_bedrooms|population|households|median_income|median_house_value|ocean_proximity|ocean_proximity_idx|ocean_proximity_ohe|categorical_features|\n",
      "+---------+--------+------------------+-----------+--------------+----------+----------+-------------+------------------+---------------+-------------------+-------------------+--------------------+\n",
      "|   -124.3|   41.84|              17.0|     2677.0|         531.0|    1244.0|     456.0|       3.0313|          103600.0|     NEAR OCEAN|                2.0|      (3,[2],[1.0])|       [0.0,0.0,1.0]|\n",
      "|  -124.23|   40.81|              52.0|     1112.0|         209.0|     544.0|     172.0|       3.3462|           50800.0|     NEAR OCEAN|                2.0|      (3,[2],[1.0])|       [0.0,0.0,1.0]|\n",
      "|  -124.21|   40.75|              32.0|     1218.0|         331.0|     620.0|     268.0|       1.6528|           58100.0|     NEAR OCEAN|                2.0|      (3,[2],[1.0])|       [0.0,0.0,1.0]|\n",
      "|  -124.21|   41.77|              17.0|     3461.0|         722.0|    1947.0|     647.0|       2.5795|           68400.0|     NEAR OCEAN|                2.0|      (3,[2],[1.0])|       [0.0,0.0,1.0]|\n",
      "|  -124.18|   40.78|              33.0|     1076.0|         222.0|     656.0|     236.0|       2.5096|           72200.0|     NEAR OCEAN|                2.0|      (3,[2],[1.0])|       [0.0,0.0,1.0]|\n",
      "+---------+--------+------------------+-----------+--------------+----------+----------+-------------+------------------+---------------+-------------------+-------------------+--------------------+\n",
      "only showing top 5 rows\n",
      "\n"
     ]
    }
   ],
   "source": [
    "# объединим признаки в один вектор, с которым ML-алгоритм умеет работать\n",
    "\n",
    "categorical_assembler = \\\n",
    "        VectorAssembler(inputCols=[c+'_ohe' for c in categorical_cols],\n",
    "                                        outputCol=\"categorical_features\")\n",
    "\n",
    "test_data = categorical_assembler.transform(test_data) \n",
    "\n",
    "train_data = categorical_assembler.transform(train_data) \n",
    "\n",
    "train_data.show(5)\n",
    "\n",
    "test_data.show(5)"
   ]
  },
  {
   "cell_type": "code",
   "execution_count": 16,
   "id": "e802c913",
   "metadata": {},
   "outputs": [
    {
     "name": "stderr",
     "output_type": "stream",
     "text": [
      "                                                                                \r"
     ]
    },
    {
     "name": "stdout",
     "output_type": "stream",
     "text": [
      "+---------+--------+------------------+-----------+--------------+----------+----------+-------------+------------------+---------------+-------------------+-------------------+--------------------+--------------------+-------------------------+\n",
      "|longitude|latitude|housing_median_age|total_rooms|total_bedrooms|population|households|median_income|median_house_value|ocean_proximity|ocean_proximity_idx|ocean_proximity_ohe|categorical_features|  numerical_features|numerical_features_scaled|\n",
      "+---------+--------+------------------+-----------+--------------+----------+----------+-------------+------------------+---------------+-------------------+-------------------+--------------------+--------------------+-------------------------+\n",
      "|  -124.35|   40.54|              52.0|     1820.0|         300.0|     806.0|     270.0|       3.0147|           94600.0|     NEAR OCEAN|                2.0|      (3,[2],[1.0])|       [0.0,0.0,1.0]|[52.0,1820.0,300....|     [4.13230773726505...|\n",
      "|   -124.3|    41.8|              19.0|     2672.0|         552.0|    1298.0|     478.0|       1.9797|           85800.0|     NEAR OCEAN|                2.0|      (3,[2],[1.0])|       [0.0,0.0,1.0]|[19.0,2672.0,552....|     [1.50988167323146...|\n",
      "|  -124.27|   40.69|              36.0|     2349.0|         528.0|    1194.0|     465.0|       2.5179|           79000.0|     NEAR OCEAN|                2.0|      (3,[2],[1.0])|       [0.0,0.0,1.0]|[36.0,2349.0,528....|     [2.86082843349118...|\n",
      "|  -124.26|   40.58|              52.0|     2217.0|         394.0|     907.0|     369.0|       2.3571|          111400.0|     NEAR OCEAN|                2.0|      (3,[2],[1.0])|       [0.0,0.0,1.0]|[52.0,2217.0,394....|     [4.13230773726505...|\n",
      "|  -124.25|   40.28|              32.0|     1430.0|         419.0|     434.0|     187.0|       1.9417|           76100.0|     NEAR OCEAN|                2.0|      (3,[2],[1.0])|       [0.0,0.0,1.0]|[32.0,1430.0,419....|     [2.54295860754772...|\n",
      "+---------+--------+------------------+-----------+--------------+----------+----------+-------------+------------------+---------------+-------------------+-------------------+--------------------+--------------------+-------------------------+\n",
      "only showing top 5 rows\n",
      "\n",
      "+---------+--------+------------------+-----------+--------------+----------+----------+-------------+------------------+---------------+-------------------+-------------------+--------------------+--------------------+-------------------------+\n",
      "|longitude|latitude|housing_median_age|total_rooms|total_bedrooms|population|households|median_income|median_house_value|ocean_proximity|ocean_proximity_idx|ocean_proximity_ohe|categorical_features|  numerical_features|numerical_features_scaled|\n",
      "+---------+--------+------------------+-----------+--------------+----------+----------+-------------+------------------+---------------+-------------------+-------------------+--------------------+--------------------+-------------------------+\n",
      "|   -124.3|   41.84|              17.0|     2677.0|         531.0|    1244.0|     456.0|       3.0313|          103600.0|     NEAR OCEAN|                2.0|      (3,[2],[1.0])|       [0.0,0.0,1.0]|[17.0,2677.0,531....|     [1.35094676025972...|\n",
      "|  -124.23|   40.81|              52.0|     1112.0|         209.0|     544.0|     172.0|       3.3462|           50800.0|     NEAR OCEAN|                2.0|      (3,[2],[1.0])|       [0.0,0.0,1.0]|[52.0,1112.0,209....|     [4.13230773726505...|\n",
      "|  -124.21|   40.75|              32.0|     1218.0|         331.0|     620.0|     268.0|       1.6528|           58100.0|     NEAR OCEAN|                2.0|      (3,[2],[1.0])|       [0.0,0.0,1.0]|[32.0,1218.0,331....|     [2.54295860754772...|\n",
      "|  -124.21|   41.77|              17.0|     3461.0|         722.0|    1947.0|     647.0|       2.5795|           68400.0|     NEAR OCEAN|                2.0|      (3,[2],[1.0])|       [0.0,0.0,1.0]|[17.0,3461.0,722....|     [1.35094676025972...|\n",
      "|  -124.18|   40.78|              33.0|     1076.0|         222.0|     656.0|     236.0|       2.5096|           72200.0|     NEAR OCEAN|                2.0|      (3,[2],[1.0])|       [0.0,0.0,1.0]|[33.0,1076.0,222....|     [2.62242606403358...|\n",
      "+---------+--------+------------------+-----------+--------------+----------+----------+-------------+------------------+---------------+-------------------+-------------------+--------------------+--------------------+-------------------------+\n",
      "only showing top 5 rows\n",
      "\n"
     ]
    }
   ],
   "source": [
    "# для числовых признаков применим шкалирование значений — чтобы сильные выбросы не смещали предсказания модели\n",
    "\n",
    "numerical_assembler = VectorAssembler(inputCols=numerical_cols,\n",
    "                                    outputCol=\"numerical_features\")\n",
    "\n",
    "train_data = numerical_assembler.transform(train_data) \n",
    "\n",
    "test_data = numerical_assembler.transform(test_data)\n",
    "\n",
    "standardScaler = StandardScaler(inputCol='numerical_features',\n",
    "                                        outputCol=\"numerical_features_scaled\")\n",
    "\n",
    "standardScaler_data = standardScaler.fit(train_data)\n",
    "\n",
    "test_data = standardScaler_data.transform(test_data)\n",
    "\n",
    "train_data = standardScaler_data.transform(train_data)\n",
    "\n",
    "train_data.show(5)\n",
    "\n",
    "test_data.show(5)"
   ]
  },
  {
   "cell_type": "code",
   "execution_count": 17,
   "id": "2f3a82b3",
   "metadata": {
    "scrolled": false
   },
   "outputs": [],
   "source": [
    "# соберем трансформированные категорийные и числовые признаки с помощью VectorAssembler\n",
    "\n",
    "all_features = ['categorical_features','numerical_features_scaled']\n",
    "\n",
    "final_assembler = VectorAssembler(inputCols=all_features, \n",
    "                                  outputCol=\"features\") \n",
    "\n",
    "train_data = final_assembler.transform(train_data)\n",
    "\n",
    "test_data = final_assembler.transform(test_data)\n"
   ]
  },
  {
   "cell_type": "code",
   "execution_count": 18,
   "id": "93b0bee4",
   "metadata": {},
   "outputs": [
    {
     "name": "stdout",
     "output_type": "stream",
     "text": [
      "+---------+--------+------------------+-----------+--------------+----------+----------+-------------+------------------+---------------+-------------------+-------------------+--------------------+--------------------+-------------------------+--------------------+\n",
      "|longitude|latitude|housing_median_age|total_rooms|total_bedrooms|population|households|median_income|median_house_value|ocean_proximity|ocean_proximity_idx|ocean_proximity_ohe|categorical_features|  numerical_features|numerical_features_scaled|            features|\n",
      "+---------+--------+------------------+-----------+--------------+----------+----------+-------------+------------------+---------------+-------------------+-------------------+--------------------+--------------------+-------------------------+--------------------+\n",
      "|  -124.35|   40.54|              52.0|     1820.0|         300.0|     806.0|     270.0|       3.0147|           94600.0|     NEAR OCEAN|                2.0|      (3,[2],[1.0])|       [0.0,0.0,1.0]|[52.0,1820.0,300....|     [4.13230773726505...|[0.0,0.0,1.0,4.13...|\n",
      "|   -124.3|    41.8|              19.0|     2672.0|         552.0|    1298.0|     478.0|       1.9797|           85800.0|     NEAR OCEAN|                2.0|      (3,[2],[1.0])|       [0.0,0.0,1.0]|[19.0,2672.0,552....|     [1.50988167323146...|[0.0,0.0,1.0,1.50...|\n",
      "|  -124.27|   40.69|              36.0|     2349.0|         528.0|    1194.0|     465.0|       2.5179|           79000.0|     NEAR OCEAN|                2.0|      (3,[2],[1.0])|       [0.0,0.0,1.0]|[36.0,2349.0,528....|     [2.86082843349118...|[0.0,0.0,1.0,2.86...|\n",
      "|  -124.26|   40.58|              52.0|     2217.0|         394.0|     907.0|     369.0|       2.3571|          111400.0|     NEAR OCEAN|                2.0|      (3,[2],[1.0])|       [0.0,0.0,1.0]|[52.0,2217.0,394....|     [4.13230773726505...|[0.0,0.0,1.0,4.13...|\n",
      "|  -124.25|   40.28|              32.0|     1430.0|         419.0|     434.0|     187.0|       1.9417|           76100.0|     NEAR OCEAN|                2.0|      (3,[2],[1.0])|       [0.0,0.0,1.0]|[32.0,1430.0,419....|     [2.54295860754772...|[0.0,0.0,1.0,2.54...|\n",
      "|  -124.23|   40.54|              52.0|     2694.0|         453.0|    1152.0|     435.0|       3.0806|          106700.0|     NEAR OCEAN|                2.0|      (3,[2],[1.0])|       [0.0,0.0,1.0]|[52.0,2694.0,453....|     [4.13230773726505...|[0.0,0.0,1.0,4.13...|\n",
      "|  -124.23|   41.75|              11.0|     3159.0|         616.0|    1343.0|     479.0|       2.4805|           73200.0|     NEAR OCEAN|                2.0|      (3,[2],[1.0])|       [0.0,0.0,1.0]|[11.0,3159.0,616....|     [0.87414202134452...|[0.0,0.0,1.0,0.87...|\n",
      "|  -124.22|   41.73|              28.0|     3003.0|         699.0|    1530.0|     653.0|       1.7038|           78300.0|     NEAR OCEAN|                2.0|      (3,[2],[1.0])|       [0.0,0.0,1.0]|[28.0,3003.0,699....|     [2.22508878160425...|[0.0,0.0,1.0,2.22...|\n",
      "|  -124.21|   41.75|              20.0|     3810.0|         787.0|    1993.0|     721.0|       2.0074|           66900.0|     NEAR OCEAN|                2.0|      (3,[2],[1.0])|       [0.0,0.0,1.0]|[20.0,3810.0,787....|     [1.58934912971732...|[0.0,0.0,1.0,1.58...|\n",
      "|  -124.19|   40.73|              21.0|     5694.0|        1056.0|    2907.0|     972.0|       3.5363|           90100.0|     NEAR OCEAN|                2.0|      (3,[2],[1.0])|       [0.0,0.0,1.0]|[21.0,5694.0,1056...|     [1.66881658620319...|[0.0,0.0,1.0,1.66...|\n",
      "|  -124.19|   40.77|              30.0|     2975.0|         634.0|    1367.0|     583.0|        2.442|           69000.0|     NEAR OCEAN|                2.0|      (3,[2],[1.0])|       [0.0,0.0,1.0]|[30.0,2975.0,634....|     [2.38402369457599...|[0.0,0.0,1.0,2.38...|\n",
      "|  -124.19|   40.78|              37.0|     1371.0|         319.0|     640.0|     260.0|       1.8242|           70000.0|     NEAR OCEAN|                2.0|      (3,[2],[1.0])|       [0.0,0.0,1.0]|[37.0,1371.0,319....|     [2.94029588997705...|[0.0,0.0,1.0,2.94...|\n",
      "|  -124.19|   41.78|              15.0|     3140.0|         714.0|    1645.0|     640.0|       1.6654|           74600.0|     NEAR OCEAN|                2.0|      (3,[2],[1.0])|       [0.0,0.0,1.0]|[15.0,3140.0,714....|     [1.19201184728799...|[0.0,0.0,1.0,1.19...|\n",
      "|  -124.18|   40.62|              35.0|      952.0|         178.0|     480.0|     179.0|       3.0536|          107000.0|     NEAR OCEAN|                2.0|      (3,[2],[1.0])|       [0.0,0.0,1.0]|[35.0,952.0,178.0...|     [2.78136097700532...|[0.0,0.0,1.0,2.78...|\n",
      "|  -124.18|   40.78|              37.0|     1453.0|         293.0|     867.0|     310.0|       2.5536|           70200.0|     NEAR OCEAN|                2.0|      (3,[2],[1.0])|       [0.0,0.0,1.0]|[37.0,1453.0,293....|     [2.94029588997705...|[0.0,0.0,1.0,2.94...|\n",
      "|  -124.18|   40.79|              39.0|     1836.0|         352.0|     883.0|     337.0|        1.745|           70500.0|     NEAR OCEAN|                2.0|      (3,[2],[1.0])|       [0.0,0.0,1.0]|[39.0,1836.0,352....|     [3.09923080294878...|[0.0,0.0,1.0,3.09...|\n",
      "|  -124.18|   40.79|              40.0|     1398.0|         311.0|     788.0|     279.0|       1.4668|           64600.0|     NEAR OCEAN|                2.0|      (3,[2],[1.0])|       [0.0,0.0,1.0]|[40.0,1398.0,311....|     [3.17869825943465...|[0.0,0.0,1.0,3.17...|\n",
      "|  -124.17|   40.62|              32.0|     1595.0|         309.0|     706.0|     277.0|       2.8958|           86400.0|     NEAR OCEAN|                2.0|      (3,[2],[1.0])|       [0.0,0.0,1.0]|[32.0,1595.0,309....|     [2.54295860754772...|[0.0,0.0,1.0,2.54...|\n",
      "|  -124.17|   40.74|              17.0|     2026.0|         338.0|     873.0|     313.0|       4.0357|          128900.0|     NEAR OCEAN|                2.0|      (3,[2],[1.0])|       [0.0,0.0,1.0]|[17.0,2026.0,338....|     [1.35094676025972...|[0.0,0.0,1.0,1.35...|\n",
      "|  -124.17|   40.75|              13.0|     2171.0|         339.0|     951.0|     353.0|       4.8516|          116100.0|     NEAR OCEAN|                2.0|      (3,[2],[1.0])|       [0.0,0.0,1.0]|[13.0,2171.0,339....|     [1.03307693431626...|[0.0,0.0,1.0,1.03...|\n",
      "+---------+--------+------------------+-----------+--------------+----------+----------+-------------+------------------+---------------+-------------------+-------------------+--------------------+--------------------+-------------------------+--------------------+\n",
      "only showing top 20 rows\n",
      "\n",
      "+---------+--------+------------------+-----------+--------------+----------+----------+-------------+------------------+---------------+-------------------+-------------------+--------------------+--------------------+-------------------------+--------------------+\n",
      "|longitude|latitude|housing_median_age|total_rooms|total_bedrooms|population|households|median_income|median_house_value|ocean_proximity|ocean_proximity_idx|ocean_proximity_ohe|categorical_features|  numerical_features|numerical_features_scaled|            features|\n",
      "+---------+--------+------------------+-----------+--------------+----------+----------+-------------+------------------+---------------+-------------------+-------------------+--------------------+--------------------+-------------------------+--------------------+\n",
      "|   -124.3|   41.84|              17.0|     2677.0|         531.0|    1244.0|     456.0|       3.0313|          103600.0|     NEAR OCEAN|                2.0|      (3,[2],[1.0])|       [0.0,0.0,1.0]|[17.0,2677.0,531....|     [1.35094676025972...|[0.0,0.0,1.0,1.35...|\n",
      "|  -124.23|   40.81|              52.0|     1112.0|         209.0|     544.0|     172.0|       3.3462|           50800.0|     NEAR OCEAN|                2.0|      (3,[2],[1.0])|       [0.0,0.0,1.0]|[52.0,1112.0,209....|     [4.13230773726505...|[0.0,0.0,1.0,4.13...|\n",
      "|  -124.21|   40.75|              32.0|     1218.0|         331.0|     620.0|     268.0|       1.6528|           58100.0|     NEAR OCEAN|                2.0|      (3,[2],[1.0])|       [0.0,0.0,1.0]|[32.0,1218.0,331....|     [2.54295860754772...|[0.0,0.0,1.0,2.54...|\n",
      "|  -124.21|   41.77|              17.0|     3461.0|         722.0|    1947.0|     647.0|       2.5795|           68400.0|     NEAR OCEAN|                2.0|      (3,[2],[1.0])|       [0.0,0.0,1.0]|[17.0,3461.0,722....|     [1.35094676025972...|[0.0,0.0,1.0,1.35...|\n",
      "|  -124.18|   40.78|              33.0|     1076.0|         222.0|     656.0|     236.0|       2.5096|           72200.0|     NEAR OCEAN|                2.0|      (3,[2],[1.0])|       [0.0,0.0,1.0]|[33.0,1076.0,222....|     [2.62242606403358...|[0.0,0.0,1.0,2.62...|\n",
      "|  -124.18|   40.78|              34.0|     1592.0|         364.0|     950.0|     317.0|       2.1607|           67000.0|     NEAR OCEAN|                2.0|      (3,[2],[1.0])|       [0.0,0.0,1.0]|[34.0,1592.0,364....|     [2.70189352051945...|[0.0,0.0,1.0,2.70...|\n",
      "|  -124.17|   40.77|              30.0|     1895.0|         366.0|     990.0|     359.0|       2.2227|           81300.0|     NEAR OCEAN|                2.0|      (3,[2],[1.0])|       [0.0,0.0,1.0]|[30.0,1895.0,366....|     [2.38402369457599...|[0.0,0.0,1.0,2.38...|\n",
      "|  -124.17|   40.79|              43.0|     2285.0|         479.0|    1169.0|     482.0|       1.9688|           70500.0|     NEAR OCEAN|                2.0|      (3,[2],[1.0])|       [0.0,0.0,1.0]|[43.0,2285.0,479....|     [3.41710062889225...|[0.0,0.0,1.0,3.41...|\n",
      "|  -124.17|    40.8|              52.0|      661.0|         316.0|     392.0|     244.0|        0.957|           60000.0|     NEAR OCEAN|                2.0|      (3,[2],[1.0])|       [0.0,0.0,1.0]|[52.0,661.0,316.0...|     [4.13230773726505...|[0.0,0.0,1.0,4.13...|\n",
      "|  -124.17|    41.8|              16.0|     2739.0|         480.0|    1259.0|     436.0|       3.7557|          109400.0|     NEAR OCEAN|                2.0|      (3,[2],[1.0])|       [0.0,0.0,1.0]|[16.0,2739.0,480....|     [1.27147930377386...|[0.0,0.0,1.0,1.27...|\n",
      "|  -124.16|    40.8|              52.0|     1703.0|         500.0|     952.0|     435.0|       1.1386|           74100.0|     NEAR OCEAN|                2.0|      (3,[2],[1.0])|       [0.0,0.0,1.0]|[52.0,1703.0,500....|     [4.13230773726505...|[0.0,0.0,1.0,4.13...|\n",
      "|  -124.16|    40.8|              52.0|     2167.0|         480.0|     908.0|     451.0|       1.6111|           74700.0|     NEAR OCEAN|                2.0|      (3,[2],[1.0])|       [0.0,0.0,1.0]|[52.0,2167.0,480....|     [4.13230773726505...|[0.0,0.0,1.0,4.13...|\n",
      "|  -124.15|   40.78|              36.0|     2112.0|         374.0|     829.0|     368.0|       3.3984|           90000.0|     NEAR OCEAN|                2.0|      (3,[2],[1.0])|       [0.0,0.0,1.0]|[36.0,2112.0,374....|     [2.86082843349118...|[0.0,0.0,1.0,2.86...|\n",
      "|  -124.15|   40.78|              41.0|     2127.0|         358.0|     911.0|     349.0|       3.1711|          104200.0|     NEAR OCEAN|                2.0|      (3,[2],[1.0])|       [0.0,0.0,1.0]|[41.0,2127.0,358....|     [3.25816571592051...|[0.0,0.0,1.0,3.25...|\n",
      "|  -124.15|    40.8|              47.0|     1486.0|         335.0|     765.0|     329.0|        1.755|           74100.0|     NEAR OCEAN|                2.0|      (3,[2],[1.0])|       [0.0,0.0,1.0]|[47.0,1486.0,335....|     [3.73497045483571...|[0.0,0.0,1.0,3.73...|\n",
      "|  -124.15|   40.81|              50.0|      340.0|          74.0|     235.0|      83.0|         1.75|           67500.0|     NEAR OCEAN|                2.0|      (3,[2],[1.0])|       [0.0,0.0,1.0]|[50.0,340.0,74.0,...|     [3.97337282429331...|[0.0,0.0,1.0,3.97...|\n",
      "|  -124.15|   41.81|              17.0|     3276.0|         628.0|    3546.0|     585.0|       2.2868|          103100.0|     NEAR OCEAN|                2.0|      (3,[2],[1.0])|       [0.0,0.0,1.0]|[17.0,3276.0,628....|     [1.35094676025972...|[0.0,0.0,1.0,1.35...|\n",
      "|  -124.14|   40.58|              25.0|     1899.0|         357.0|     891.0|     355.0|       2.6987|           92500.0|      <1H OCEAN|                0.0|      (3,[0],[1.0])|       [1.0,0.0,0.0]|[25.0,1899.0,357....|     [1.98668641214665...|[1.0,0.0,0.0,1.98...|\n",
      "|  -124.14|    40.6|              27.0|     1148.0|         206.0|     521.0|     219.0|        4.025|          128100.0|     NEAR OCEAN|                2.0|      (3,[2],[1.0])|       [0.0,0.0,1.0]|[27.0,1148.0,206....|     [2.14562132511839...|[0.0,0.0,1.0,2.14...|\n",
      "|  -124.14|   40.77|              27.0|     3046.0|         605.0|    1407.0|     571.0|       2.9143|           99600.0|     NEAR OCEAN|                2.0|      (3,[2],[1.0])|       [0.0,0.0,1.0]|[27.0,3046.0,605....|     [2.14562132511839...|[0.0,0.0,1.0,2.14...|\n",
      "+---------+--------+------------------+-----------+--------------+----------+----------+-------------+------------------+---------------+-------------------+-------------------+--------------------+--------------------+-------------------------+--------------------+\n",
      "only showing top 20 rows\n",
      "\n"
     ]
    }
   ],
   "source": [
    "# посмотрим, как выглядит датафрейм после преобразований\n",
    "\n",
    "train_data.show()\n",
    "\n",
    "test_data.show()"
   ]
  },
  {
   "cell_type": "markdown",
   "id": "49b46bb3",
   "metadata": {},
   "source": [
    "Переходим к построению моделей."
   ]
  },
  {
   "cell_type": "markdown",
   "id": "9f0a82f3",
   "metadata": {
    "id": "9f0a82f3"
   },
   "source": [
    "# Обучение моделей"
   ]
  },
  {
   "cell_type": "markdown",
   "id": "6990473e",
   "metadata": {},
   "source": [
    "Для сравнения построим модели на двух разных наборах данных:\n",
    " \n",
    " * вся выборка (будем использовать признаки features)\n",
    " \n",
    " * только числовые признаки ( будем использовать numerical_features_scaled).\n",
    " "
   ]
  },
  {
   "cell_type": "code",
   "execution_count": 19,
   "id": "cd179808",
   "metadata": {},
   "outputs": [
    {
     "name": "stderr",
     "output_type": "stream",
     "text": [
      "23/07/16 10:53:05 WARN Instrumentation: [39c62847] regParam is zero, which might cause numerical instability and overfitting.\n",
      "23/07/16 10:53:06 WARN BLAS: Failed to load implementation from: com.github.fommil.netlib.NativeSystemBLAS\n",
      "23/07/16 10:53:06 WARN BLAS: Failed to load implementation from: com.github.fommil.netlib.NativeRefBLAS\n",
      "23/07/16 10:53:07 WARN LAPACK: Failed to load implementation from: com.github.fommil.netlib.NativeSystemLAPACK\n",
      "23/07/16 10:53:07 WARN LAPACK: Failed to load implementation from: com.github.fommil.netlib.NativeRefLAPACK\n",
      "                                                                                \r"
     ]
    }
   ],
   "source": [
    "# создадим и обучим модель линейной регрессии на первом наборе данных\n",
    "\n",
    "lr_1 = LinearRegression(featuresCol='features',labelCol=target)\n",
    "\n",
    "model_1 = lr_1.fit(train_data)"
   ]
  },
  {
   "cell_type": "code",
   "execution_count": 20,
   "id": "3ac7831a",
   "metadata": {
    "scrolled": true
   },
   "outputs": [
    {
     "name": "stdout",
     "output_type": "stream",
     "text": [
      "+------------------+------------------+\n",
      "|median_house_value|        prediction|\n",
      "+------------------+------------------+\n",
      "|          103600.0|196113.03890509784|\n",
      "|           50800.0|238373.93600748837|\n",
      "|           58100.0| 160938.9236801582|\n",
      "|           68400.0| 176756.2730417095|\n",
      "|           72200.0|186201.04770909058|\n",
      "|           67000.0| 175524.8522193165|\n",
      "|           81300.0|174067.04397184268|\n",
      "|           70500.0|188199.30296996282|\n",
      "|           60000.0|164968.63325759236|\n",
      "|          109400.0|  217901.749742163|\n",
      "+------------------+------------------+\n",
      "only showing top 10 rows\n",
      "\n"
     ]
    }
   ],
   "source": [
    "# проверим, как предсказывает модель\n",
    "\n",
    "predictions_1 = model_1.transform(test_data)\n",
    "\n",
    "predictedLabes_1 = predictions_1.select(\"median_house_value\", \"prediction\")\n",
    "\n",
    "predictedLabes_1.show(10)"
   ]
  },
  {
   "cell_type": "code",
   "execution_count": 21,
   "id": "47c066b6",
   "metadata": {},
   "outputs": [
    {
     "name": "stderr",
     "output_type": "stream",
     "text": [
      "23/07/16 10:53:10 WARN Instrumentation: [3f4e29aa] regParam is zero, which might cause numerical instability and overfitting.\n",
      "                                                                                \r"
     ]
    }
   ],
   "source": [
    "# создадим и обучим модель линейной регрессии на втором наборе данных\n",
    "\n",
    "lr_2 = LinearRegression(featuresCol='numerical_features_scaled',labelCol=target)\n",
    "\n",
    "model_2 = lr_2.fit(train_data)"
   ]
  },
  {
   "cell_type": "code",
   "execution_count": 22,
   "id": "11154a16",
   "metadata": {
    "scrolled": true
   },
   "outputs": [
    {
     "name": "stdout",
     "output_type": "stream",
     "text": [
      "+------------------+------------------+\n",
      "|median_house_value|        prediction|\n",
      "+------------------+------------------+\n",
      "|          103600.0|144295.34129911353|\n",
      "|           50800.0|211237.80416117882|\n",
      "|           58100.0|113264.49794334997|\n",
      "|           68400.0|126149.45783470222|\n",
      "|           72200.0|  143898.505418506|\n",
      "|           67000.0| 131964.0198862102|\n",
      "|           81300.0|   126850.69839998|\n",
      "|           70500.0|152048.17904726154|\n",
      "|           60000.0|131126.90527815287|\n",
      "|          109400.0| 168111.9848881244|\n",
      "+------------------+------------------+\n",
      "only showing top 10 rows\n",
      "\n"
     ]
    }
   ],
   "source": [
    "# проверим, как предсказывает модель\n",
    "\n",
    "predictions_2 = model_2.transform(test_data)\n",
    "\n",
    "predictedLabes_2 = predictions_2.select(\"median_house_value\", \"prediction\")\n",
    "\n",
    "predictedLabes_2.show(10)"
   ]
  },
  {
   "cell_type": "markdown",
   "id": "9174ad65",
   "metadata": {},
   "source": [
    "На первый взгляд, второй набор дает лучшие результаты, проверим показатели качества обеих моделей."
   ]
  },
  {
   "cell_type": "markdown",
   "id": "757fd103",
   "metadata": {
    "id": "757fd103"
   },
   "source": [
    "# Анализ результатов"
   ]
  },
  {
   "cell_type": "markdown",
   "id": "9b88bc9d",
   "metadata": {},
   "source": [
    "Результаты моделей будем оценивать с помощью следующих метрик качества: RMSE (Корень из среднеквадратичной ошибки), MAE (Cредняя абсолютная ошибка ) и R2 (коэффициент детерминации). "
   ]
  },
  {
   "cell_type": "code",
   "execution_count": 23,
   "id": "fbafefef",
   "metadata": {},
   "outputs": [],
   "source": [
    "# для анализа результатов работы модели создадим объект класса RegressionEvaluator:\n",
    "\n",
    "evaluator = RegressionEvaluator(predictionCol='prediction', labelCol = target)"
   ]
  },
  {
   "cell_type": "code",
   "execution_count": 24,
   "id": "6c8bd363",
   "metadata": {},
   "outputs": [
    {
     "name": "stdout",
     "output_type": "stream",
     "text": [
      "Показатель RMSE на первой выборке: 69320.98513259148\n"
     ]
    }
   ],
   "source": [
    "# расчитаем rmse для обеих моделей\n",
    "\n",
    "print('Показатель RMSE на первой выборке:', evaluator.evaluate(predictions_1, {evaluator.metricName: \"rmse\"}))\n"
   ]
  },
  {
   "cell_type": "code",
   "execution_count": 25,
   "id": "f5220a09",
   "metadata": {},
   "outputs": [
    {
     "name": "stdout",
     "output_type": "stream",
     "text": [
      "Показатель RMSE на второй выборке: 74808.82491049665\n"
     ]
    }
   ],
   "source": [
    "\n",
    "print('Показатель RMSE на второй выборке:', evaluator.evaluate(predictions_2, {evaluator.metricName: \"rmse\"}))"
   ]
  },
  {
   "cell_type": "markdown",
   "id": "258de626",
   "metadata": {},
   "source": [
    "Чем точнее модель, тем больше значение RMSE будет стремиться к нулю. Таким образом, первая модель показала лучший результат. Но оба показателя имеют очень большие значения, а значит, высока разница между предсказанием и фактическим значением.\n"
   ]
  },
  {
   "cell_type": "code",
   "execution_count": 26,
   "id": "a804ca19",
   "metadata": {},
   "outputs": [
    {
     "name": "stdout",
     "output_type": "stream",
     "text": [
      "Показатель MAE на первой выборке: 50181.25391055931\n"
     ]
    }
   ],
   "source": [
    "# расчитаем mae для обеих моделей\n",
    "\n",
    "print('Показатель MAE на первой выборке:', evaluator.evaluate(predictions_1, {evaluator.metricName: \"mae\"}))"
   ]
  },
  {
   "cell_type": "code",
   "execution_count": 27,
   "id": "81f3f6cd",
   "metadata": {},
   "outputs": [
    {
     "name": "stdout",
     "output_type": "stream",
     "text": [
      "Показатель MAE на второй выборке: 54858.569834715694\n"
     ]
    }
   ],
   "source": [
    "print('Показатель MAE на второй выборке:', evaluator.evaluate(predictions_2, {evaluator.metricName: \"mae\"}))"
   ]
  },
  {
   "cell_type": "markdown",
   "id": "43b3e187",
   "metadata": {},
   "source": [
    "Первая выборка снова показывает результат лучше, чем вторая. Но показатель MAE очень далек от нуля, что говорит о низком качестве обеих моделей."
   ]
  },
  {
   "cell_type": "code",
   "execution_count": 28,
   "id": "5f133a87",
   "metadata": {},
   "outputs": [
    {
     "name": "stdout",
     "output_type": "stream",
     "text": [
      "Показатель R2 на первой выборке: 0.6444159006711733\n"
     ]
    }
   ],
   "source": [
    "# расчитаем r2 для обеих моделей\n",
    "\n",
    "print('Показатель R2 на первой выборке:',evaluator.evaluate(predictions_1, {evaluator.metricName: \"r2\"}))"
   ]
  },
  {
   "cell_type": "code",
   "execution_count": 29,
   "id": "5779583e",
   "metadata": {},
   "outputs": [
    {
     "name": "stdout",
     "output_type": "stream",
     "text": [
      "Показатель R2 на второй выборке: 0.5858873030804909\n"
     ]
    }
   ],
   "source": [
    "\n",
    "print('Показатель R2 на второй выборке:',evaluator.evaluate(predictions_2, {evaluator.metricName: \"r2\"}))"
   ]
  },
  {
   "cell_type": "code",
   "execution_count": null,
   "id": "94031a44",
   "metadata": {},
   "outputs": [],
   "source": [
    "spark.stop()"
   ]
  },
  {
   "cell_type": "markdown",
   "id": "ef9527de",
   "metadata": {},
   "source": [
    "И снова показатель на первой выборке лучше. Чем ближе R2 к единице, тем лучше предсказывает модель. В целом, показатели R2 для обеих выборок показывают, что модели предсказывают неплохо."
   ]
  },
  {
   "cell_type": "markdown",
   "id": "7195afc6",
   "metadata": {},
   "source": [
    "# Вывод"
   ]
  },
  {
   "cell_type": "markdown",
   "id": "75983d85",
   "metadata": {},
   "source": [
    "В проекте мы обучили модель линейной регрессии на данных о жилье в Калифорнии в 1990 году, для этого использовали данные двух выборок: все признаки и только количественные выборки. Модель, для которой использовали первую выборку, показала лучшие результаты метрик качества. Хотя первоначально показалось, что она, наоборот, предсказывает хуже. Таким образом, оставив категориальный признак, а именно, показатель приближенности жилых массивов к океану, мы получили более высокое качество предсказаний."
   ]
  }
 ],
 "metadata": {
  "ExecuteTimeLog": [
   {
    "duration": 132,
    "start_time": "2023-07-10T07:44:12.205Z"
   },
   {
    "duration": 99,
    "start_time": "2023-07-10T07:44:32.805Z"
   },
   {
    "duration": 141,
    "start_time": "2023-07-10T07:45:36.445Z"
   },
   {
    "duration": 126,
    "start_time": "2023-07-10T07:46:09.892Z"
   },
   {
    "duration": 787,
    "start_time": "2023-07-10T07:51:06.444Z"
   },
   {
    "duration": 15789,
    "start_time": "2023-07-10T07:52:02.258Z"
   },
   {
    "duration": 1136,
    "start_time": "2023-07-10T07:55:15.685Z"
   },
   {
    "duration": 48,
    "start_time": "2023-07-10T08:24:13.827Z"
   },
   {
    "duration": 6724,
    "start_time": "2023-07-10T08:26:11.924Z"
   },
   {
    "duration": 504,
    "start_time": "2023-07-10T08:26:32.731Z"
   },
   {
    "duration": 8,
    "start_time": "2023-07-10T08:27:04.024Z"
   },
   {
    "duration": 481,
    "start_time": "2023-07-10T08:27:10.470Z"
   },
   {
    "duration": 226,
    "start_time": "2023-07-10T08:27:13.341Z"
   },
   {
    "duration": 223,
    "start_time": "2023-07-10T08:30:36.859Z"
   },
   {
    "duration": 256,
    "start_time": "2023-07-10T08:30:45.116Z"
   },
   {
    "duration": 12,
    "start_time": "2023-07-10T08:31:08.163Z"
   },
   {
    "duration": 2,
    "start_time": "2023-07-10T08:31:36.056Z"
   },
   {
    "duration": 1078,
    "start_time": "2023-07-10T08:37:25.139Z"
   },
   {
    "duration": 283,
    "start_time": "2023-07-10T08:37:29.656Z"
   },
   {
    "duration": 247,
    "start_time": "2023-07-10T08:40:24.782Z"
   },
   {
    "duration": 252,
    "start_time": "2023-07-10T08:40:40.095Z"
   },
   {
    "duration": 731,
    "start_time": "2023-07-10T08:44:24.899Z"
   },
   {
    "duration": 585,
    "start_time": "2023-07-10T08:46:03.965Z"
   },
   {
    "duration": 185,
    "start_time": "2023-07-10T08:46:08.843Z"
   },
   {
    "duration": 2,
    "start_time": "2023-07-10T08:46:14.495Z"
   },
   {
    "duration": 682,
    "start_time": "2023-07-10T08:46:47.374Z"
   },
   {
    "duration": 396,
    "start_time": "2023-07-10T08:46:49.450Z"
   },
   {
    "duration": 7,
    "start_time": "2023-07-10T08:47:09.175Z"
   },
   {
    "duration": 3942,
    "start_time": "2023-07-10T09:12:26.488Z"
   },
   {
    "duration": 3,
    "start_time": "2023-07-10T09:42:26.881Z"
   },
   {
    "duration": 5,
    "start_time": "2023-07-10T09:42:59.312Z"
   },
   {
    "duration": 8,
    "start_time": "2023-07-10T09:43:41.253Z"
   },
   {
    "duration": 3514,
    "start_time": "2023-07-10T09:43:59.535Z"
   },
   {
    "duration": 2526,
    "start_time": "2023-07-10T09:44:50.416Z"
   },
   {
    "duration": 10,
    "start_time": "2023-07-10T09:46:38.367Z"
   },
   {
    "duration": 9,
    "start_time": "2023-07-10T09:46:50.486Z"
   },
   {
    "duration": 7,
    "start_time": "2023-07-10T09:47:04.280Z"
   },
   {
    "duration": 29,
    "start_time": "2023-07-10T09:47:12.709Z"
   },
   {
    "duration": 590,
    "start_time": "2023-07-10T09:49:18.420Z"
   },
   {
    "duration": 29,
    "start_time": "2023-07-10T09:49:23.282Z"
   },
   {
    "duration": 14,
    "start_time": "2023-07-10T09:49:35.622Z"
   },
   {
    "duration": 11,
    "start_time": "2023-07-10T09:49:50.523Z"
   },
   {
    "duration": 12,
    "start_time": "2023-07-10T09:49:55.097Z"
   },
   {
    "duration": 8,
    "start_time": "2023-07-10T09:50:38.651Z"
   },
   {
    "duration": 653,
    "start_time": "2023-07-10T09:54:26.893Z"
   },
   {
    "duration": 57,
    "start_time": "2023-07-10T09:57:11.782Z"
   },
   {
    "duration": 9,
    "start_time": "2023-07-10T09:57:24.056Z"
   },
   {
    "duration": 12,
    "start_time": "2023-07-10T10:00:55.623Z"
   },
   {
    "duration": 13,
    "start_time": "2023-07-10T10:03:02.078Z"
   },
   {
    "duration": 9,
    "start_time": "2023-07-10T10:08:06.983Z"
   },
   {
    "duration": 9,
    "start_time": "2023-07-10T10:08:17.629Z"
   },
   {
    "duration": 100,
    "start_time": "2023-07-10T10:13:01.221Z"
   },
   {
    "duration": 0,
    "start_time": "2023-07-10T10:13:01.323Z"
   },
   {
    "duration": 0,
    "start_time": "2023-07-10T10:13:01.324Z"
   },
   {
    "duration": 0,
    "start_time": "2023-07-10T10:13:01.326Z"
   },
   {
    "duration": 0,
    "start_time": "2023-07-10T10:13:01.327Z"
   },
   {
    "duration": 0,
    "start_time": "2023-07-10T10:13:01.328Z"
   },
   {
    "duration": 0,
    "start_time": "2023-07-10T10:13:01.329Z"
   },
   {
    "duration": 0,
    "start_time": "2023-07-10T10:13:01.330Z"
   },
   {
    "duration": 0,
    "start_time": "2023-07-10T10:13:01.331Z"
   },
   {
    "duration": 1248,
    "start_time": "2023-07-10T10:17:49.442Z"
   },
   {
    "duration": 16460,
    "start_time": "2023-07-10T10:17:50.692Z"
   },
   {
    "duration": 9626,
    "start_time": "2023-07-10T10:18:07.201Z"
   },
   {
    "duration": 905,
    "start_time": "2023-07-10T10:18:16.828Z"
   },
   {
    "duration": 12,
    "start_time": "2023-07-10T10:18:17.739Z"
   },
   {
    "duration": 4692,
    "start_time": "2023-07-10T10:18:17.753Z"
   },
   {
    "duration": 4965,
    "start_time": "2023-07-10T10:18:22.447Z"
   },
   {
    "duration": 365,
    "start_time": "2023-07-10T10:19:45.858Z"
   },
   {
    "duration": 267,
    "start_time": "2023-07-10T10:19:56.892Z"
   },
   {
    "duration": 339,
    "start_time": "2023-07-10T10:21:00.612Z"
   },
   {
    "duration": 334,
    "start_time": "2023-07-10T10:21:06.981Z"
   },
   {
    "duration": 253,
    "start_time": "2023-07-10T10:21:32.944Z"
   },
   {
    "duration": 50,
    "start_time": "2023-07-10T10:32:01.895Z"
   },
   {
    "duration": 105,
    "start_time": "2023-07-10T10:32:17.130Z"
   },
   {
    "duration": 10,
    "start_time": "2023-07-10T10:33:41.555Z"
   },
   {
    "duration": 8,
    "start_time": "2023-07-10T10:33:53.899Z"
   },
   {
    "duration": 8,
    "start_time": "2023-07-10T10:33:58.937Z"
   },
   {
    "duration": 8,
    "start_time": "2023-07-10T10:38:23.342Z"
   },
   {
    "duration": 7,
    "start_time": "2023-07-10T10:38:27.223Z"
   },
   {
    "duration": 8,
    "start_time": "2023-07-10T10:38:40.299Z"
   },
   {
    "duration": 8,
    "start_time": "2023-07-10T10:38:57.605Z"
   },
   {
    "duration": 11,
    "start_time": "2023-07-10T10:39:07.460Z"
   },
   {
    "duration": 8,
    "start_time": "2023-07-10T10:39:30.058Z"
   },
   {
    "duration": 8,
    "start_time": "2023-07-10T10:39:43.938Z"
   },
   {
    "duration": 1369,
    "start_time": "2023-07-10T10:39:50.938Z"
   },
   {
    "duration": 15696,
    "start_time": "2023-07-10T10:39:52.309Z"
   },
   {
    "duration": 9130,
    "start_time": "2023-07-10T10:40:08.007Z"
   },
   {
    "duration": 891,
    "start_time": "2023-07-10T10:40:17.139Z"
   },
   {
    "duration": 5,
    "start_time": "2023-07-10T10:40:18.032Z"
   },
   {
    "duration": 4698,
    "start_time": "2023-07-10T10:40:18.039Z"
   },
   {
    "duration": 4664,
    "start_time": "2023-07-10T10:40:22.739Z"
   },
   {
    "duration": 18,
    "start_time": "2023-07-10T10:40:27.407Z"
   },
   {
    "duration": 4091,
    "start_time": "2023-07-10T10:40:27.427Z"
   },
   {
    "duration": 121,
    "start_time": "2023-07-10T11:03:09.661Z"
   },
   {
    "duration": 3,
    "start_time": "2023-07-10T11:15:37.100Z"
   },
   {
    "duration": 12,
    "start_time": "2023-07-10T11:17:08.140Z"
   },
   {
    "duration": 37,
    "start_time": "2023-07-10T11:19:08.338Z"
   },
   {
    "duration": 12,
    "start_time": "2023-07-10T11:19:18.138Z"
   },
   {
    "duration": 3,
    "start_time": "2023-07-10T11:20:40.011Z"
   },
   {
    "duration": 3,
    "start_time": "2023-07-10T11:20:42.014Z"
   },
   {
    "duration": 9,
    "start_time": "2023-07-10T11:20:49.620Z"
   },
   {
    "duration": 1243,
    "start_time": "2023-07-10T11:20:58.027Z"
   },
   {
    "duration": 15052,
    "start_time": "2023-07-10T11:20:59.272Z"
   },
   {
    "duration": 8077,
    "start_time": "2023-07-10T11:21:14.326Z"
   },
   {
    "duration": 812,
    "start_time": "2023-07-10T11:21:22.404Z"
   },
   {
    "duration": 4,
    "start_time": "2023-07-10T11:21:23.219Z"
   },
   {
    "duration": 4187,
    "start_time": "2023-07-10T11:21:23.225Z"
   },
   {
    "duration": 3718,
    "start_time": "2023-07-10T11:21:27.414Z"
   },
   {
    "duration": 73,
    "start_time": "2023-07-10T11:21:31.134Z"
   },
   {
    "duration": 3724,
    "start_time": "2023-07-10T11:21:31.209Z"
   },
   {
    "duration": 67,
    "start_time": "2023-07-10T11:21:34.935Z"
   },
   {
    "duration": 210,
    "start_time": "2023-07-10T11:21:35.004Z"
   },
   {
    "duration": 0,
    "start_time": "2023-07-10T11:21:35.216Z"
   },
   {
    "duration": 932,
    "start_time": "2023-07-10T11:33:42.392Z"
   },
   {
    "duration": 1553,
    "start_time": "2023-07-11T07:34:21.625Z"
   },
   {
    "duration": 17106,
    "start_time": "2023-07-11T07:34:23.180Z"
   },
   {
    "duration": 10494,
    "start_time": "2023-07-11T07:34:40.288Z"
   },
   {
    "duration": 1112,
    "start_time": "2023-07-11T07:34:50.785Z"
   },
   {
    "duration": 66,
    "start_time": "2023-07-11T07:34:51.899Z"
   },
   {
    "duration": 5193,
    "start_time": "2023-07-11T07:34:51.966Z"
   },
   {
    "duration": 4616,
    "start_time": "2023-07-11T07:34:57.162Z"
   },
   {
    "duration": 83,
    "start_time": "2023-07-11T07:35:01.780Z"
   },
   {
    "duration": 4210,
    "start_time": "2023-07-11T07:35:01.865Z"
   },
   {
    "duration": 4,
    "start_time": "2023-07-11T07:35:06.078Z"
   },
   {
    "duration": 595,
    "start_time": "2023-07-11T07:35:06.084Z"
   },
   {
    "duration": 0,
    "start_time": "2023-07-11T07:35:06.681Z"
   },
   {
    "duration": 30,
    "start_time": "2023-07-11T07:43:47.532Z"
   },
   {
    "duration": 24,
    "start_time": "2023-07-11T07:45:04.262Z"
   },
   {
    "duration": 20,
    "start_time": "2023-07-11T07:45:26.856Z"
   },
   {
    "duration": 4,
    "start_time": "2023-07-11T07:50:16.392Z"
   },
   {
    "duration": 160,
    "start_time": "2023-07-11T07:50:17.560Z"
   },
   {
    "duration": 4,
    "start_time": "2023-07-11T07:50:45.214Z"
   },
   {
    "duration": 206,
    "start_time": "2023-07-11T07:50:47.355Z"
   },
   {
    "duration": 2090,
    "start_time": "2023-07-11T07:53:22.310Z"
   },
   {
    "duration": 126,
    "start_time": "2023-07-11T07:55:05.294Z"
   },
   {
    "duration": 70,
    "start_time": "2023-07-11T07:55:18.585Z"
   },
   {
    "duration": 68,
    "start_time": "2023-07-11T07:55:26.021Z"
   },
   {
    "duration": 328,
    "start_time": "2023-07-11T07:55:59.351Z"
   },
   {
    "duration": 125,
    "start_time": "2023-07-11T07:56:14.684Z"
   },
   {
    "duration": 115,
    "start_time": "2023-07-11T07:56:37.912Z"
   },
   {
    "duration": 1374,
    "start_time": "2023-07-11T07:57:23.735Z"
   },
   {
    "duration": 16577,
    "start_time": "2023-07-11T07:57:25.111Z"
   },
   {
    "duration": 10100,
    "start_time": "2023-07-11T07:57:41.691Z"
   },
   {
    "duration": 888,
    "start_time": "2023-07-11T07:57:51.794Z"
   },
   {
    "duration": 6,
    "start_time": "2023-07-11T07:57:52.684Z"
   },
   {
    "duration": 5179,
    "start_time": "2023-07-11T07:57:52.692Z"
   },
   {
    "duration": 5290,
    "start_time": "2023-07-11T07:57:57.873Z"
   },
   {
    "duration": 19,
    "start_time": "2023-07-11T07:58:03.165Z"
   },
   {
    "duration": 4586,
    "start_time": "2023-07-11T07:58:03.185Z"
   },
   {
    "duration": 4,
    "start_time": "2023-07-11T07:58:07.775Z"
   },
   {
    "duration": 2581,
    "start_time": "2023-07-11T07:58:07.781Z"
   },
   {
    "duration": 813,
    "start_time": "2023-07-11T07:58:10.364Z"
   },
   {
    "duration": 282,
    "start_time": "2023-07-11T07:58:11.180Z"
   },
   {
    "duration": 170,
    "start_time": "2023-07-11T07:59:23.801Z"
   },
   {
    "duration": 1348,
    "start_time": "2023-07-11T07:59:33.052Z"
   },
   {
    "duration": 16399,
    "start_time": "2023-07-11T07:59:34.404Z"
   },
   {
    "duration": 10468,
    "start_time": "2023-07-11T07:59:50.806Z"
   },
   {
    "duration": 889,
    "start_time": "2023-07-11T08:00:01.277Z"
   },
   {
    "duration": 6,
    "start_time": "2023-07-11T08:00:02.169Z"
   },
   {
    "duration": 5283,
    "start_time": "2023-07-11T08:00:02.176Z"
   },
   {
    "duration": 4711,
    "start_time": "2023-07-11T08:00:07.462Z"
   },
   {
    "duration": 85,
    "start_time": "2023-07-11T08:00:12.175Z"
   },
   {
    "duration": 4816,
    "start_time": "2023-07-11T08:00:12.263Z"
   },
   {
    "duration": 5,
    "start_time": "2023-07-11T08:00:17.083Z"
   },
   {
    "duration": 2488,
    "start_time": "2023-07-11T08:00:17.090Z"
   },
   {
    "duration": 571,
    "start_time": "2023-07-11T08:00:19.580Z"
   },
   {
    "duration": 0,
    "start_time": "2023-07-11T08:00:20.152Z"
   },
   {
    "duration": 172,
    "start_time": "2023-07-11T08:02:56.120Z"
   },
   {
    "duration": 1294,
    "start_time": "2023-07-11T08:03:06.340Z"
   },
   {
    "duration": 16525,
    "start_time": "2023-07-11T08:03:07.636Z"
   },
   {
    "duration": 9938,
    "start_time": "2023-07-11T08:03:24.163Z"
   },
   {
    "duration": 1021,
    "start_time": "2023-07-11T08:03:34.160Z"
   },
   {
    "duration": 7,
    "start_time": "2023-07-11T08:03:35.260Z"
   },
   {
    "duration": 4896,
    "start_time": "2023-07-11T08:03:35.269Z"
   },
   {
    "duration": 5193,
    "start_time": "2023-07-11T08:03:40.168Z"
   },
   {
    "duration": 25,
    "start_time": "2023-07-11T08:03:45.363Z"
   },
   {
    "duration": 4504,
    "start_time": "2023-07-11T08:03:45.391Z"
   },
   {
    "duration": 65,
    "start_time": "2023-07-11T08:03:49.897Z"
   },
   {
    "duration": 2326,
    "start_time": "2023-07-11T08:03:49.964Z"
   },
   {
    "duration": 706,
    "start_time": "2023-07-11T08:03:52.293Z"
   },
   {
    "duration": 0,
    "start_time": "2023-07-11T08:03:53.000Z"
   },
   {
    "duration": 198,
    "start_time": "2023-07-11T08:04:05.473Z"
   },
   {
    "duration": 1294,
    "start_time": "2023-07-11T08:04:12.492Z"
   },
   {
    "duration": 17071,
    "start_time": "2023-07-11T08:04:13.788Z"
   },
   {
    "duration": 11038,
    "start_time": "2023-07-11T08:04:30.862Z"
   },
   {
    "duration": 1078,
    "start_time": "2023-07-11T08:04:41.902Z"
   },
   {
    "duration": 6,
    "start_time": "2023-07-11T08:04:42.983Z"
   },
   {
    "duration": 5592,
    "start_time": "2023-07-11T08:04:42.992Z"
   },
   {
    "duration": 4985,
    "start_time": "2023-07-11T08:04:48.586Z"
   },
   {
    "duration": 90,
    "start_time": "2023-07-11T08:04:53.573Z"
   },
   {
    "duration": 4631,
    "start_time": "2023-07-11T08:04:53.666Z"
   },
   {
    "duration": 4,
    "start_time": "2023-07-11T08:04:58.359Z"
   },
   {
    "duration": 2526,
    "start_time": "2023-07-11T08:04:58.365Z"
   },
   {
    "duration": 901,
    "start_time": "2023-07-11T08:05:00.895Z"
   },
   {
    "duration": 235,
    "start_time": "2023-07-11T08:05:01.860Z"
   },
   {
    "duration": 5,
    "start_time": "2023-07-11T08:05:45.091Z"
   },
   {
    "duration": 9,
    "start_time": "2023-07-11T08:05:45.099Z"
   },
   {
    "duration": 668,
    "start_time": "2023-07-11T08:05:45.110Z"
   },
   {
    "duration": 280,
    "start_time": "2023-07-11T08:05:45.781Z"
   },
   {
    "duration": 6,
    "start_time": "2023-07-11T08:05:46.063Z"
   },
   {
    "duration": 1626,
    "start_time": "2023-07-11T08:05:46.071Z"
   },
   {
    "duration": 2861,
    "start_time": "2023-07-11T08:05:47.699Z"
   },
   {
    "duration": 13,
    "start_time": "2023-07-11T08:05:50.562Z"
   },
   {
    "duration": 2528,
    "start_time": "2023-07-11T08:05:50.577Z"
   },
   {
    "duration": 4,
    "start_time": "2023-07-11T08:05:53.108Z"
   },
   {
    "duration": 916,
    "start_time": "2023-07-11T08:05:53.114Z"
   },
   {
    "duration": 4,
    "start_time": "2023-07-11T08:06:08.849Z"
   },
   {
    "duration": 12,
    "start_time": "2023-07-11T08:06:08.855Z"
   },
   {
    "duration": 490,
    "start_time": "2023-07-11T08:06:08.869Z"
   },
   {
    "duration": 160,
    "start_time": "2023-07-11T08:06:09.361Z"
   },
   {
    "duration": 4,
    "start_time": "2023-07-11T08:06:09.523Z"
   },
   {
    "duration": 1668,
    "start_time": "2023-07-11T08:06:09.529Z"
   },
   {
    "duration": 2283,
    "start_time": "2023-07-11T08:06:11.200Z"
   },
   {
    "duration": 11,
    "start_time": "2023-07-11T08:06:13.486Z"
   },
   {
    "duration": 2460,
    "start_time": "2023-07-11T08:06:13.499Z"
   },
   {
    "duration": 3,
    "start_time": "2023-07-11T08:06:15.963Z"
   },
   {
    "duration": 733,
    "start_time": "2023-07-11T08:06:15.969Z"
   },
   {
    "duration": 2427,
    "start_time": "2023-07-11T08:06:23.632Z"
   },
   {
    "duration": 68,
    "start_time": "2023-07-11T08:09:16.721Z"
   },
   {
    "duration": 1032,
    "start_time": "2023-07-11T08:11:25.353Z"
   },
   {
    "duration": 357,
    "start_time": "2023-07-11T08:13:40.851Z"
   },
   {
    "duration": 8,
    "start_time": "2023-07-11T08:22:25.385Z"
   },
   {
    "duration": 5,
    "start_time": "2023-07-11T08:28:19.747Z"
   },
   {
    "duration": 23,
    "start_time": "2023-07-11T08:28:19.754Z"
   },
   {
    "duration": 432,
    "start_time": "2023-07-11T08:28:19.779Z"
   },
   {
    "duration": 256,
    "start_time": "2023-07-11T08:28:20.213Z"
   },
   {
    "duration": 5,
    "start_time": "2023-07-11T08:28:20.471Z"
   },
   {
    "duration": 1012,
    "start_time": "2023-07-11T08:28:20.478Z"
   },
   {
    "duration": 2145,
    "start_time": "2023-07-11T08:28:21.492Z"
   },
   {
    "duration": 26,
    "start_time": "2023-07-11T08:28:23.639Z"
   },
   {
    "duration": 2099,
    "start_time": "2023-07-11T08:28:23.666Z"
   },
   {
    "duration": 3,
    "start_time": "2023-07-11T08:28:25.768Z"
   },
   {
    "duration": 692,
    "start_time": "2023-07-11T08:28:25.774Z"
   },
   {
    "duration": 1506,
    "start_time": "2023-07-11T08:28:26.469Z"
   },
   {
    "duration": 1952,
    "start_time": "2023-07-11T08:28:27.977Z"
   },
   {
    "duration": 4714,
    "start_time": "2023-07-11T08:29:57.592Z"
   },
   {
    "duration": 3619,
    "start_time": "2023-07-11T08:32:15.548Z"
   },
   {
    "duration": 285,
    "start_time": "2023-07-11T08:32:28.136Z"
   },
   {
    "duration": 4681,
    "start_time": "2023-07-11T08:32:30.157Z"
   },
   {
    "duration": 131,
    "start_time": "2023-07-11T08:35:12.338Z"
   },
   {
    "duration": 3190,
    "start_time": "2023-07-11T08:35:14.717Z"
   },
   {
    "duration": 4,
    "start_time": "2023-07-11T08:35:24.519Z"
   },
   {
    "duration": 5,
    "start_time": "2023-07-11T08:35:24.526Z"
   },
   {
    "duration": 278,
    "start_time": "2023-07-11T08:35:24.533Z"
   },
   {
    "duration": 95,
    "start_time": "2023-07-11T08:35:24.813Z"
   },
   {
    "duration": 4,
    "start_time": "2023-07-11T08:35:24.910Z"
   },
   {
    "duration": 760,
    "start_time": "2023-07-11T08:35:24.916Z"
   },
   {
    "duration": 1488,
    "start_time": "2023-07-11T08:35:25.678Z"
   },
   {
    "duration": 8,
    "start_time": "2023-07-11T08:35:27.169Z"
   },
   {
    "duration": 1827,
    "start_time": "2023-07-11T08:35:27.179Z"
   },
   {
    "duration": 3,
    "start_time": "2023-07-11T08:35:29.008Z"
   },
   {
    "duration": 554,
    "start_time": "2023-07-11T08:35:29.013Z"
   },
   {
    "duration": 906,
    "start_time": "2023-07-11T08:35:29.569Z"
   },
   {
    "duration": 1542,
    "start_time": "2023-07-11T08:35:30.477Z"
   },
   {
    "duration": 3514,
    "start_time": "2023-07-11T08:35:32.022Z"
   },
   {
    "duration": 36,
    "start_time": "2023-07-11T08:35:35.538Z"
   },
   {
    "duration": 15,
    "start_time": "2023-07-11T08:45:23.370Z"
   },
   {
    "duration": 4,
    "start_time": "2023-07-11T08:52:41.508Z"
   },
   {
    "duration": 20,
    "start_time": "2023-07-11T08:52:41.514Z"
   },
   {
    "duration": 328,
    "start_time": "2023-07-11T08:52:41.536Z"
   },
   {
    "duration": 79,
    "start_time": "2023-07-11T08:52:41.866Z"
   },
   {
    "duration": 16,
    "start_time": "2023-07-11T08:52:41.947Z"
   },
   {
    "duration": 644,
    "start_time": "2023-07-11T08:52:41.965Z"
   },
   {
    "duration": 1299,
    "start_time": "2023-07-11T08:52:42.661Z"
   },
   {
    "duration": 10,
    "start_time": "2023-07-11T08:52:43.963Z"
   },
   {
    "duration": 1828,
    "start_time": "2023-07-11T08:52:43.980Z"
   },
   {
    "duration": 3,
    "start_time": "2023-07-11T08:52:45.810Z"
   },
   {
    "duration": 492,
    "start_time": "2023-07-11T08:52:45.815Z"
   },
   {
    "duration": 1039,
    "start_time": "2023-07-11T08:52:46.309Z"
   },
   {
    "duration": 1401,
    "start_time": "2023-07-11T08:52:47.349Z"
   },
   {
    "duration": 3349,
    "start_time": "2023-07-11T08:52:48.758Z"
   },
   {
    "duration": 24,
    "start_time": "2023-07-11T08:52:52.109Z"
   },
   {
    "duration": 3200,
    "start_time": "2023-07-11T08:52:52.135Z"
   },
   {
    "duration": 11,
    "start_time": "2023-07-11T08:52:55.338Z"
   },
   {
    "duration": 4,
    "start_time": "2023-07-11T08:57:02.213Z"
   },
   {
    "duration": 2452,
    "start_time": "2023-07-11T08:57:09.029Z"
   },
   {
    "duration": 5,
    "start_time": "2023-07-11T08:59:10.595Z"
   },
   {
    "duration": 144,
    "start_time": "2023-07-11T09:01:38.049Z"
   },
   {
    "duration": 3984,
    "start_time": "2023-07-11T09:02:38.406Z"
   },
   {
    "duration": 1131,
    "start_time": "2023-07-11T09:06:41.843Z"
   },
   {
    "duration": 904,
    "start_time": "2023-07-11T09:07:03.456Z"
   },
   {
    "duration": 2439,
    "start_time": "2023-07-11T09:08:37.656Z"
   },
   {
    "duration": 1129,
    "start_time": "2023-07-11T09:09:19.936Z"
   },
   {
    "duration": 5,
    "start_time": "2023-07-11T09:14:32.098Z"
   },
   {
    "duration": 11,
    "start_time": "2023-07-11T09:23:37.225Z"
   },
   {
    "duration": 12,
    "start_time": "2023-07-11T09:27:09.055Z"
   },
   {
    "duration": 1066,
    "start_time": "2023-07-11T09:29:49.703Z"
   },
   {
    "duration": 940,
    "start_time": "2023-07-11T09:30:09.336Z"
   },
   {
    "duration": 583,
    "start_time": "2023-07-11T09:30:11.321Z"
   },
   {
    "duration": 69,
    "start_time": "2023-07-11T09:36:47.391Z"
   },
   {
    "duration": 570,
    "start_time": "2023-07-11T09:37:35.332Z"
   },
   {
    "duration": 535,
    "start_time": "2023-07-11T09:38:09.845Z"
   },
   {
    "duration": 68,
    "start_time": "2023-07-11T09:40:19.668Z"
   },
   {
    "duration": 482,
    "start_time": "2023-07-11T09:40:30.421Z"
   },
   {
    "duration": 508,
    "start_time": "2023-07-11T09:40:52.198Z"
   },
   {
    "duration": 495,
    "start_time": "2023-07-11T09:43:38.700Z"
   },
   {
    "duration": 462,
    "start_time": "2023-07-11T09:44:04.316Z"
   },
   {
    "duration": 11,
    "start_time": "2023-07-11T09:49:09.204Z"
   },
   {
    "duration": 5027,
    "start_time": "2023-07-11T09:50:43.182Z"
   },
   {
    "duration": 8,
    "start_time": "2023-07-11T10:09:43.298Z"
   },
   {
    "duration": 597,
    "start_time": "2023-07-11T10:09:44.097Z"
   },
   {
    "duration": 375,
    "start_time": "2023-07-11T10:09:45.863Z"
   },
   {
    "duration": 429,
    "start_time": "2023-07-11T10:10:20.269Z"
   },
   {
    "duration": 345,
    "start_time": "2023-07-11T10:10:29.516Z"
   },
   {
    "duration": 418,
    "start_time": "2023-07-11T10:10:41.004Z"
   },
   {
    "duration": 406,
    "start_time": "2023-07-11T10:10:49.730Z"
   },
   {
    "duration": 2,
    "start_time": "2023-07-11T10:11:07.256Z"
   },
   {
    "duration": 1350,
    "start_time": "2023-07-11T10:11:22.436Z"
   },
   {
    "duration": 18001,
    "start_time": "2023-07-11T10:11:23.790Z"
   },
   {
    "duration": 11315,
    "start_time": "2023-07-11T10:11:41.794Z"
   },
   {
    "duration": 873,
    "start_time": "2023-07-11T10:11:53.111Z"
   },
   {
    "duration": 9,
    "start_time": "2023-07-11T10:11:53.987Z"
   },
   {
    "duration": 5475,
    "start_time": "2023-07-11T10:11:54.000Z"
   },
   {
    "duration": 5222,
    "start_time": "2023-07-11T10:11:59.477Z"
   },
   {
    "duration": 84,
    "start_time": "2023-07-11T10:12:04.701Z"
   },
   {
    "duration": 4592,
    "start_time": "2023-07-11T10:12:04.787Z"
   },
   {
    "duration": 82,
    "start_time": "2023-07-11T10:12:09.381Z"
   },
   {
    "duration": 0,
    "start_time": "2023-07-11T10:12:09.466Z"
   },
   {
    "duration": 0,
    "start_time": "2023-07-11T10:12:09.467Z"
   },
   {
    "duration": 0,
    "start_time": "2023-07-11T10:12:09.468Z"
   },
   {
    "duration": 0,
    "start_time": "2023-07-11T10:12:09.470Z"
   },
   {
    "duration": 0,
    "start_time": "2023-07-11T10:12:09.472Z"
   },
   {
    "duration": 0,
    "start_time": "2023-07-11T10:12:09.474Z"
   },
   {
    "duration": 0,
    "start_time": "2023-07-11T10:12:09.475Z"
   },
   {
    "duration": 0,
    "start_time": "2023-07-11T10:12:09.477Z"
   },
   {
    "duration": 0,
    "start_time": "2023-07-11T10:12:09.479Z"
   },
   {
    "duration": 0,
    "start_time": "2023-07-11T10:12:09.481Z"
   },
   {
    "duration": 0,
    "start_time": "2023-07-11T10:12:09.482Z"
   },
   {
    "duration": 0,
    "start_time": "2023-07-11T10:12:09.484Z"
   },
   {
    "duration": 0,
    "start_time": "2023-07-11T10:12:09.486Z"
   },
   {
    "duration": 0,
    "start_time": "2023-07-11T10:12:09.488Z"
   },
   {
    "duration": 0,
    "start_time": "2023-07-11T10:12:09.489Z"
   },
   {
    "duration": 0,
    "start_time": "2023-07-11T10:12:09.491Z"
   },
   {
    "duration": 0,
    "start_time": "2023-07-11T10:12:09.493Z"
   },
   {
    "duration": 0,
    "start_time": "2023-07-11T10:12:09.565Z"
   },
   {
    "duration": 0,
    "start_time": "2023-07-11T10:12:09.575Z"
   },
   {
    "duration": 1327,
    "start_time": "2023-07-11T10:13:25.273Z"
   },
   {
    "duration": 17285,
    "start_time": "2023-07-11T10:13:26.602Z"
   },
   {
    "duration": 10196,
    "start_time": "2023-07-11T10:13:43.889Z"
   },
   {
    "duration": 919,
    "start_time": "2023-07-11T10:13:54.088Z"
   },
   {
    "duration": 11,
    "start_time": "2023-07-11T10:13:55.065Z"
   },
   {
    "duration": 5600,
    "start_time": "2023-07-11T10:13:55.083Z"
   },
   {
    "duration": 5705,
    "start_time": "2023-07-11T10:14:00.688Z"
   },
   {
    "duration": 87,
    "start_time": "2023-07-11T10:14:06.395Z"
   },
   {
    "duration": 4691,
    "start_time": "2023-07-11T10:14:06.484Z"
   },
   {
    "duration": 4,
    "start_time": "2023-07-11T10:14:11.188Z"
   },
   {
    "duration": 2208,
    "start_time": "2023-07-11T10:14:11.193Z"
   },
   {
    "duration": 3400,
    "start_time": "2023-07-11T10:14:13.403Z"
   },
   {
    "duration": 3201,
    "start_time": "2023-07-11T10:14:16.804Z"
   },
   {
    "duration": 6106,
    "start_time": "2023-07-11T10:14:20.007Z"
   },
   {
    "duration": 49,
    "start_time": "2023-07-11T10:14:26.115Z"
   },
   {
    "duration": 4329,
    "start_time": "2023-07-11T10:14:26.172Z"
   },
   {
    "duration": 2596,
    "start_time": "2023-07-11T10:14:30.502Z"
   },
   {
    "duration": 4514,
    "start_time": "2023-07-11T10:14:33.100Z"
   },
   {
    "duration": 1294,
    "start_time": "2023-07-11T10:14:37.616Z"
   },
   {
    "duration": 3562,
    "start_time": "2023-07-11T10:14:38.912Z"
   },
   {
    "duration": 1306,
    "start_time": "2023-07-11T10:14:42.479Z"
   },
   {
    "duration": 13,
    "start_time": "2023-07-11T10:14:43.786Z"
   },
   {
    "duration": 1335,
    "start_time": "2023-07-11T10:14:43.861Z"
   },
   {
    "duration": 964,
    "start_time": "2023-07-11T10:14:45.198Z"
   },
   {
    "duration": 678,
    "start_time": "2023-07-11T10:14:46.164Z"
   },
   {
    "duration": 556,
    "start_time": "2023-07-11T10:14:46.844Z"
   },
   {
    "duration": 610,
    "start_time": "2023-07-11T10:14:47.402Z"
   },
   {
    "duration": 789,
    "start_time": "2023-07-11T10:14:48.015Z"
   },
   {
    "duration": 72,
    "start_time": "2023-07-13T08:16:57.539Z"
   },
   {
    "duration": 1971,
    "start_time": "2023-07-13T08:17:02.928Z"
   },
   {
    "duration": 21474,
    "start_time": "2023-07-13T08:17:04.902Z"
   },
   {
    "duration": 13211,
    "start_time": "2023-07-13T08:17:26.378Z"
   },
   {
    "duration": 1213,
    "start_time": "2023-07-13T08:17:39.591Z"
   },
   {
    "duration": 5,
    "start_time": "2023-07-13T08:17:40.808Z"
   },
   {
    "duration": 35,
    "start_time": "2023-07-13T08:17:40.814Z"
   },
   {
    "duration": 6,
    "start_time": "2023-07-13T08:20:01.136Z"
   },
   {
    "duration": 9,
    "start_time": "2023-07-13T08:20:03.879Z"
   },
   {
    "duration": 1455,
    "start_time": "2023-07-13T08:20:06.408Z"
   },
   {
    "duration": 378,
    "start_time": "2023-07-13T08:20:23.592Z"
   },
   {
    "duration": 6,
    "start_time": "2023-07-13T08:20:34.326Z"
   },
   {
    "duration": 5236,
    "start_time": "2023-07-13T08:20:36.782Z"
   },
   {
    "duration": 4870,
    "start_time": "2023-07-13T08:21:17.208Z"
   },
   {
    "duration": 31,
    "start_time": "2023-07-13T08:21:30.474Z"
   },
   {
    "duration": 126,
    "start_time": "2023-07-13T08:30:53.274Z"
   },
   {
    "duration": 0,
    "start_time": "2023-07-13T08:30:53.402Z"
   },
   {
    "duration": 0,
    "start_time": "2023-07-13T08:30:53.404Z"
   },
   {
    "duration": 0,
    "start_time": "2023-07-13T08:30:53.405Z"
   },
   {
    "duration": 0,
    "start_time": "2023-07-13T08:30:53.406Z"
   },
   {
    "duration": 0,
    "start_time": "2023-07-13T08:30:53.408Z"
   },
   {
    "duration": 0,
    "start_time": "2023-07-13T08:30:53.410Z"
   },
   {
    "duration": 5,
    "start_time": "2023-07-13T08:37:20.902Z"
   },
   {
    "duration": 5,
    "start_time": "2023-07-13T08:37:23.002Z"
   },
   {
    "duration": 690,
    "start_time": "2023-07-13T08:37:23.899Z"
   },
   {
    "duration": 336,
    "start_time": "2023-07-13T08:37:24.591Z"
   },
   {
    "duration": 11,
    "start_time": "2023-07-13T08:37:26.173Z"
   },
   {
    "duration": 1948,
    "start_time": "2023-07-13T08:37:27.020Z"
   },
   {
    "duration": 3382,
    "start_time": "2023-07-13T08:37:30.586Z"
   },
   {
    "duration": 11,
    "start_time": "2023-07-13T08:37:37.822Z"
   },
   {
    "duration": 15,
    "start_time": "2023-07-13T08:46:22.468Z"
   },
   {
    "duration": 105,
    "start_time": "2023-07-13T08:50:23.730Z"
   },
   {
    "duration": 421,
    "start_time": "2023-07-13T08:50:45.867Z"
   },
   {
    "duration": 52,
    "start_time": "2023-07-13T08:50:52.609Z"
   },
   {
    "duration": 20,
    "start_time": "2023-07-13T08:51:17.698Z"
   },
   {
    "duration": 160,
    "start_time": "2023-07-13T08:53:15.880Z"
   },
   {
    "duration": 128,
    "start_time": "2023-07-13T08:53:26.998Z"
   },
   {
    "duration": 27,
    "start_time": "2023-07-13T08:53:45.465Z"
   },
   {
    "duration": 11,
    "start_time": "2023-07-13T08:54:26.216Z"
   },
   {
    "duration": 527,
    "start_time": "2023-07-13T08:56:53.779Z"
   },
   {
    "duration": 221,
    "start_time": "2023-07-13T08:57:21.314Z"
   },
   {
    "duration": 883,
    "start_time": "2023-07-13T09:01:35.189Z"
   },
   {
    "duration": 433,
    "start_time": "2023-07-13T09:01:43.743Z"
   },
   {
    "duration": 19,
    "start_time": "2023-07-13T09:02:12.696Z"
   },
   {
    "duration": 27,
    "start_time": "2023-07-13T09:02:18.103Z"
   },
   {
    "duration": 313,
    "start_time": "2023-07-13T09:02:29.674Z"
   },
   {
    "duration": 110,
    "start_time": "2023-07-13T09:05:27.412Z"
   },
   {
    "duration": 126,
    "start_time": "2023-07-13T09:05:38.709Z"
   },
   {
    "duration": 346,
    "start_time": "2023-07-13T09:06:07.107Z"
   },
   {
    "duration": 4,
    "start_time": "2023-07-13T09:12:47.145Z"
   },
   {
    "duration": 10,
    "start_time": "2023-07-13T09:13:16.010Z"
   },
   {
    "duration": 4,
    "start_time": "2023-07-13T09:13:25.799Z"
   },
   {
    "duration": 14,
    "start_time": "2023-07-13T09:13:25.805Z"
   },
   {
    "duration": 478,
    "start_time": "2023-07-13T09:13:25.820Z"
   },
   {
    "duration": 261,
    "start_time": "2023-07-13T09:13:26.300Z"
   },
   {
    "duration": 11,
    "start_time": "2023-07-13T09:13:26.563Z"
   },
   {
    "duration": 1527,
    "start_time": "2023-07-13T09:13:26.576Z"
   },
   {
    "duration": 2694,
    "start_time": "2023-07-13T09:13:28.107Z"
   },
   {
    "duration": 11,
    "start_time": "2023-07-13T09:13:30.803Z"
   },
   {
    "duration": 545,
    "start_time": "2023-07-13T09:13:50.811Z"
   },
   {
    "duration": 3,
    "start_time": "2023-07-13T09:13:55.610Z"
   },
   {
    "duration": 1326,
    "start_time": "2023-07-13T09:14:01.173Z"
   },
   {
    "duration": 386,
    "start_time": "2023-07-13T09:15:39.673Z"
   },
   {
    "duration": 7,
    "start_time": "2023-07-13T09:17:32.951Z"
   },
   {
    "duration": 3,
    "start_time": "2023-07-13T09:18:07.667Z"
   },
   {
    "duration": 114,
    "start_time": "2023-07-13T09:21:44.837Z"
   },
   {
    "duration": 16,
    "start_time": "2023-07-13T09:22:17.050Z"
   },
   {
    "duration": 5,
    "start_time": "2023-07-13T09:22:21.118Z"
   },
   {
    "duration": 86,
    "start_time": "2023-07-13T09:22:21.126Z"
   },
   {
    "duration": 519,
    "start_time": "2023-07-13T09:22:21.214Z"
   },
   {
    "duration": 173,
    "start_time": "2023-07-13T09:22:21.754Z"
   },
   {
    "duration": 4,
    "start_time": "2023-07-13T09:22:21.930Z"
   },
   {
    "duration": 1255,
    "start_time": "2023-07-13T09:22:21.935Z"
   },
   {
    "duration": 2367,
    "start_time": "2023-07-13T09:22:23.193Z"
   },
   {
    "duration": 321,
    "start_time": "2023-07-13T09:22:25.564Z"
   },
   {
    "duration": 10,
    "start_time": "2023-07-13T09:22:25.888Z"
   },
   {
    "duration": 1306,
    "start_time": "2023-07-13T09:22:25.901Z"
   },
   {
    "duration": 8,
    "start_time": "2023-07-13T09:22:27.210Z"
   },
   {
    "duration": 2369,
    "start_time": "2023-07-13T09:22:27.220Z"
   },
   {
    "duration": 2947,
    "start_time": "2023-07-13T09:22:29.591Z"
   },
   {
    "duration": 157,
    "start_time": "2023-07-13T09:22:41.417Z"
   },
   {
    "duration": 179,
    "start_time": "2023-07-13T09:30:58.150Z"
   },
   {
    "duration": 7,
    "start_time": "2023-07-13T09:32:35.771Z"
   },
   {
    "duration": 70,
    "start_time": "2023-07-13T09:32:35.780Z"
   },
   {
    "duration": 366,
    "start_time": "2023-07-13T09:32:35.852Z"
   },
   {
    "duration": 195,
    "start_time": "2023-07-13T09:32:36.220Z"
   },
   {
    "duration": 4,
    "start_time": "2023-07-13T09:32:36.418Z"
   },
   {
    "duration": 942,
    "start_time": "2023-07-13T09:32:36.423Z"
   },
   {
    "duration": 2210,
    "start_time": "2023-07-13T09:32:37.369Z"
   },
   {
    "duration": 288,
    "start_time": "2023-07-13T09:32:39.581Z"
   },
   {
    "duration": 3,
    "start_time": "2023-07-13T09:32:39.873Z"
   },
   {
    "duration": 895,
    "start_time": "2023-07-13T09:32:39.878Z"
   },
   {
    "duration": 3,
    "start_time": "2023-07-13T09:32:40.775Z"
   },
   {
    "duration": 7,
    "start_time": "2023-07-13T09:32:45.351Z"
   },
   {
    "duration": 1724,
    "start_time": "2023-07-13T09:32:46.151Z"
   },
   {
    "duration": 1617,
    "start_time": "2023-07-13T09:33:28.436Z"
   },
   {
    "duration": 224,
    "start_time": "2023-07-13T09:35:17.551Z"
   },
   {
    "duration": 4,
    "start_time": "2023-07-13T09:35:29.201Z"
   },
   {
    "duration": 23,
    "start_time": "2023-07-13T09:35:29.207Z"
   },
   {
    "duration": 423,
    "start_time": "2023-07-13T09:35:29.232Z"
   },
   {
    "duration": 135,
    "start_time": "2023-07-13T09:35:29.666Z"
   },
   {
    "duration": 4,
    "start_time": "2023-07-13T09:35:29.804Z"
   },
   {
    "duration": 1297,
    "start_time": "2023-07-13T09:35:29.810Z"
   },
   {
    "duration": 2041,
    "start_time": "2023-07-13T09:35:31.154Z"
   },
   {
    "duration": 268,
    "start_time": "2023-07-13T09:35:33.197Z"
   },
   {
    "duration": 3,
    "start_time": "2023-07-13T09:35:33.467Z"
   },
   {
    "duration": 812,
    "start_time": "2023-07-13T09:35:33.471Z"
   },
   {
    "duration": 4,
    "start_time": "2023-07-13T09:35:34.285Z"
   },
   {
    "duration": 719,
    "start_time": "2023-07-13T09:35:34.290Z"
   },
   {
    "duration": 698,
    "start_time": "2023-07-13T09:35:38.737Z"
   },
   {
    "duration": 1471,
    "start_time": "2023-07-13T09:43:17.772Z"
   },
   {
    "duration": 17547,
    "start_time": "2023-07-13T09:43:19.246Z"
   },
   {
    "duration": 11881,
    "start_time": "2023-07-13T09:43:36.795Z"
   },
   {
    "duration": 1105,
    "start_time": "2023-07-13T09:43:48.679Z"
   },
   {
    "duration": 7,
    "start_time": "2023-07-13T09:43:49.786Z"
   },
   {
    "duration": 5932,
    "start_time": "2023-07-13T09:43:49.852Z"
   },
   {
    "duration": 5105,
    "start_time": "2023-07-13T09:43:55.786Z"
   },
   {
    "duration": 817,
    "start_time": "2023-07-13T09:44:00.952Z"
   },
   {
    "duration": 6,
    "start_time": "2023-07-13T09:44:01.771Z"
   },
   {
    "duration": 1995,
    "start_time": "2023-07-13T09:44:01.784Z"
   },
   {
    "duration": 4,
    "start_time": "2023-07-13T09:44:03.781Z"
   },
   {
    "duration": 2494,
    "start_time": "2023-07-13T09:44:03.787Z"
   },
   {
    "duration": 2725,
    "start_time": "2023-07-13T09:44:06.283Z"
   },
   {
    "duration": 0,
    "start_time": "2023-07-13T09:44:09.010Z"
   },
   {
    "duration": 0,
    "start_time": "2023-07-13T09:44:09.013Z"
   },
   {
    "duration": 0,
    "start_time": "2023-07-13T09:44:09.014Z"
   },
   {
    "duration": 0,
    "start_time": "2023-07-13T09:44:09.016Z"
   },
   {
    "duration": 0,
    "start_time": "2023-07-13T09:44:09.018Z"
   },
   {
    "duration": 0,
    "start_time": "2023-07-13T09:44:09.019Z"
   },
   {
    "duration": 0,
    "start_time": "2023-07-13T09:44:09.022Z"
   },
   {
    "duration": 0,
    "start_time": "2023-07-13T09:44:09.023Z"
   },
   {
    "duration": 0,
    "start_time": "2023-07-13T09:44:09.024Z"
   },
   {
    "duration": 0,
    "start_time": "2023-07-13T09:44:09.026Z"
   },
   {
    "duration": 0,
    "start_time": "2023-07-13T09:44:09.028Z"
   },
   {
    "duration": 0,
    "start_time": "2023-07-13T09:44:09.030Z"
   },
   {
    "duration": 0,
    "start_time": "2023-07-13T09:44:09.031Z"
   },
   {
    "duration": 0,
    "start_time": "2023-07-13T09:44:09.033Z"
   },
   {
    "duration": 0,
    "start_time": "2023-07-13T09:44:09.058Z"
   },
   {
    "duration": 0,
    "start_time": "2023-07-13T09:44:09.059Z"
   },
   {
    "duration": 188,
    "start_time": "2023-07-13T09:46:50.241Z"
   },
   {
    "duration": 297,
    "start_time": "2023-07-13T09:47:35.599Z"
   },
   {
    "duration": 1423,
    "start_time": "2023-07-13T09:47:44.304Z"
   },
   {
    "duration": 18260,
    "start_time": "2023-07-13T09:47:45.729Z"
   },
   {
    "duration": 11761,
    "start_time": "2023-07-13T09:48:03.991Z"
   },
   {
    "duration": 1035,
    "start_time": "2023-07-13T09:48:15.755Z"
   },
   {
    "duration": 6,
    "start_time": "2023-07-13T09:48:16.792Z"
   },
   {
    "duration": 5771,
    "start_time": "2023-07-13T09:48:16.799Z"
   },
   {
    "duration": 4915,
    "start_time": "2023-07-13T09:48:22.575Z"
   },
   {
    "duration": 867,
    "start_time": "2023-07-13T09:48:27.492Z"
   },
   {
    "duration": 5,
    "start_time": "2023-07-13T09:48:28.363Z"
   },
   {
    "duration": 1983,
    "start_time": "2023-07-13T09:48:28.374Z"
   },
   {
    "duration": 11,
    "start_time": "2023-07-13T09:48:30.359Z"
   },
   {
    "duration": 2206,
    "start_time": "2023-07-13T09:48:30.372Z"
   },
   {
    "duration": 3486,
    "start_time": "2023-07-13T09:48:32.582Z"
   },
   {
    "duration": 498,
    "start_time": "2023-07-13T09:48:36.069Z"
   },
   {
    "duration": 0,
    "start_time": "2023-07-13T09:48:36.569Z"
   },
   {
    "duration": 0,
    "start_time": "2023-07-13T09:48:36.572Z"
   },
   {
    "duration": 0,
    "start_time": "2023-07-13T09:48:36.573Z"
   },
   {
    "duration": 0,
    "start_time": "2023-07-13T09:48:36.574Z"
   },
   {
    "duration": 0,
    "start_time": "2023-07-13T09:48:36.575Z"
   },
   {
    "duration": 0,
    "start_time": "2023-07-13T09:48:36.576Z"
   },
   {
    "duration": 0,
    "start_time": "2023-07-13T09:48:36.577Z"
   },
   {
    "duration": 0,
    "start_time": "2023-07-13T09:48:36.579Z"
   },
   {
    "duration": 0,
    "start_time": "2023-07-13T09:48:36.580Z"
   },
   {
    "duration": 0,
    "start_time": "2023-07-13T09:48:36.581Z"
   },
   {
    "duration": 0,
    "start_time": "2023-07-13T09:48:36.583Z"
   },
   {
    "duration": 0,
    "start_time": "2023-07-13T09:48:36.583Z"
   },
   {
    "duration": 0,
    "start_time": "2023-07-13T09:48:36.586Z"
   },
   {
    "duration": 0,
    "start_time": "2023-07-13T09:48:36.587Z"
   },
   {
    "duration": 0,
    "start_time": "2023-07-13T09:48:36.588Z"
   },
   {
    "duration": 193,
    "start_time": "2023-07-13T09:49:15.815Z"
   },
   {
    "duration": 1958,
    "start_time": "2023-07-13T09:49:28.409Z"
   },
   {
    "duration": 19193,
    "start_time": "2023-07-13T09:49:30.370Z"
   },
   {
    "duration": 12417,
    "start_time": "2023-07-13T09:49:49.570Z"
   },
   {
    "duration": 1174,
    "start_time": "2023-07-13T09:50:01.989Z"
   },
   {
    "duration": 7,
    "start_time": "2023-07-13T09:50:03.166Z"
   },
   {
    "duration": 6302,
    "start_time": "2023-07-13T09:50:03.177Z"
   },
   {
    "duration": 5312,
    "start_time": "2023-07-13T09:50:09.481Z"
   },
   {
    "duration": 795,
    "start_time": "2023-07-13T09:50:14.796Z"
   },
   {
    "duration": 6,
    "start_time": "2023-07-13T09:50:15.593Z"
   },
   {
    "duration": 2027,
    "start_time": "2023-07-13T09:50:15.652Z"
   },
   {
    "duration": 4,
    "start_time": "2023-07-13T09:50:17.681Z"
   },
   {
    "duration": 2203,
    "start_time": "2023-07-13T09:50:17.688Z"
   },
   {
    "duration": 3099,
    "start_time": "2023-07-13T09:50:19.893Z"
   },
   {
    "duration": 0,
    "start_time": "2023-07-13T09:50:22.995Z"
   },
   {
    "duration": 0,
    "start_time": "2023-07-13T09:50:23.053Z"
   },
   {
    "duration": 0,
    "start_time": "2023-07-13T09:50:23.054Z"
   },
   {
    "duration": 0,
    "start_time": "2023-07-13T09:50:23.057Z"
   },
   {
    "duration": 0,
    "start_time": "2023-07-13T09:50:23.058Z"
   },
   {
    "duration": 0,
    "start_time": "2023-07-13T09:50:23.060Z"
   },
   {
    "duration": 0,
    "start_time": "2023-07-13T09:50:23.062Z"
   },
   {
    "duration": 0,
    "start_time": "2023-07-13T09:50:23.063Z"
   },
   {
    "duration": 0,
    "start_time": "2023-07-13T09:50:23.065Z"
   },
   {
    "duration": 0,
    "start_time": "2023-07-13T09:50:23.067Z"
   },
   {
    "duration": 0,
    "start_time": "2023-07-13T09:50:23.068Z"
   },
   {
    "duration": 0,
    "start_time": "2023-07-13T09:50:23.070Z"
   },
   {
    "duration": 0,
    "start_time": "2023-07-13T09:50:23.072Z"
   },
   {
    "duration": 0,
    "start_time": "2023-07-13T09:50:23.076Z"
   },
   {
    "duration": 0,
    "start_time": "2023-07-13T09:50:23.077Z"
   },
   {
    "duration": 0,
    "start_time": "2023-07-13T09:50:23.079Z"
   },
   {
    "duration": 185,
    "start_time": "2023-07-13T09:50:44.824Z"
   },
   {
    "duration": 1557,
    "start_time": "2023-07-13T09:50:57.621Z"
   },
   {
    "duration": 18599,
    "start_time": "2023-07-13T09:50:59.181Z"
   },
   {
    "duration": 12372,
    "start_time": "2023-07-13T09:51:17.782Z"
   },
   {
    "duration": 1043,
    "start_time": "2023-07-13T09:51:30.156Z"
   },
   {
    "duration": 58,
    "start_time": "2023-07-13T09:51:31.201Z"
   },
   {
    "duration": 6208,
    "start_time": "2023-07-13T09:51:31.262Z"
   },
   {
    "duration": 5088,
    "start_time": "2023-07-13T09:51:37.474Z"
   },
   {
    "duration": 887,
    "start_time": "2023-07-13T09:51:42.565Z"
   },
   {
    "duration": 3,
    "start_time": "2023-07-13T09:51:43.454Z"
   },
   {
    "duration": 1933,
    "start_time": "2023-07-13T09:51:43.460Z"
   },
   {
    "duration": 5,
    "start_time": "2023-07-13T09:51:45.395Z"
   },
   {
    "duration": 2254,
    "start_time": "2023-07-13T09:51:45.407Z"
   },
   {
    "duration": 4433,
    "start_time": "2023-07-13T09:51:47.663Z"
   },
   {
    "duration": 383,
    "start_time": "2023-07-13T09:51:52.098Z"
   },
   {
    "duration": 0,
    "start_time": "2023-07-13T09:51:52.483Z"
   },
   {
    "duration": 0,
    "start_time": "2023-07-13T09:51:52.485Z"
   },
   {
    "duration": 0,
    "start_time": "2023-07-13T09:51:52.486Z"
   },
   {
    "duration": 0,
    "start_time": "2023-07-13T09:51:52.487Z"
   },
   {
    "duration": 0,
    "start_time": "2023-07-13T09:51:52.488Z"
   },
   {
    "duration": 0,
    "start_time": "2023-07-13T09:51:52.490Z"
   },
   {
    "duration": 0,
    "start_time": "2023-07-13T09:51:52.491Z"
   },
   {
    "duration": 0,
    "start_time": "2023-07-13T09:51:52.492Z"
   },
   {
    "duration": 0,
    "start_time": "2023-07-13T09:51:52.493Z"
   },
   {
    "duration": 0,
    "start_time": "2023-07-13T09:51:52.496Z"
   },
   {
    "duration": 0,
    "start_time": "2023-07-13T09:51:52.497Z"
   },
   {
    "duration": 0,
    "start_time": "2023-07-13T09:51:52.499Z"
   },
   {
    "duration": 0,
    "start_time": "2023-07-13T09:51:52.500Z"
   },
   {
    "duration": 0,
    "start_time": "2023-07-13T09:51:52.502Z"
   },
   {
    "duration": 0,
    "start_time": "2023-07-13T09:51:52.503Z"
   },
   {
    "duration": 1327,
    "start_time": "2023-07-13T09:53:48.630Z"
   },
   {
    "duration": 162,
    "start_time": "2023-07-13T09:54:01.149Z"
   },
   {
    "duration": 1386,
    "start_time": "2023-07-13T10:02:06.340Z"
   },
   {
    "duration": 17933,
    "start_time": "2023-07-13T10:02:07.728Z"
   },
   {
    "duration": 12193,
    "start_time": "2023-07-13T10:02:25.663Z"
   },
   {
    "duration": 1201,
    "start_time": "2023-07-13T10:02:37.859Z"
   },
   {
    "duration": 11,
    "start_time": "2023-07-13T10:02:39.062Z"
   },
   {
    "duration": 5807,
    "start_time": "2023-07-13T10:02:39.075Z"
   },
   {
    "duration": 5226,
    "start_time": "2023-07-13T10:02:44.884Z"
   },
   {
    "duration": 759,
    "start_time": "2023-07-13T10:02:50.111Z"
   },
   {
    "duration": 9,
    "start_time": "2023-07-13T10:02:50.871Z"
   },
   {
    "duration": 2107,
    "start_time": "2023-07-13T10:02:50.884Z"
   },
   {
    "duration": 3,
    "start_time": "2023-07-13T10:02:52.994Z"
   },
   {
    "duration": 2375,
    "start_time": "2023-07-13T10:02:52.999Z"
   },
   {
    "duration": 2935,
    "start_time": "2023-07-13T10:02:55.376Z"
   },
   {
    "duration": 1,
    "start_time": "2023-07-13T10:02:58.313Z"
   },
   {
    "duration": 0,
    "start_time": "2023-07-13T10:02:58.316Z"
   },
   {
    "duration": 0,
    "start_time": "2023-07-13T10:02:58.318Z"
   },
   {
    "duration": 0,
    "start_time": "2023-07-13T10:02:58.318Z"
   },
   {
    "duration": 0,
    "start_time": "2023-07-13T10:02:58.321Z"
   },
   {
    "duration": 0,
    "start_time": "2023-07-13T10:02:58.322Z"
   },
   {
    "duration": 0,
    "start_time": "2023-07-13T10:02:58.323Z"
   },
   {
    "duration": 0,
    "start_time": "2023-07-13T10:02:58.325Z"
   },
   {
    "duration": 0,
    "start_time": "2023-07-13T10:02:58.327Z"
   },
   {
    "duration": 0,
    "start_time": "2023-07-13T10:02:58.330Z"
   },
   {
    "duration": 0,
    "start_time": "2023-07-13T10:02:58.332Z"
   },
   {
    "duration": 0,
    "start_time": "2023-07-13T10:02:58.334Z"
   },
   {
    "duration": 0,
    "start_time": "2023-07-13T10:02:58.336Z"
   },
   {
    "duration": 0,
    "start_time": "2023-07-13T10:02:58.338Z"
   },
   {
    "duration": 0,
    "start_time": "2023-07-13T10:02:58.352Z"
   },
   {
    "duration": 0,
    "start_time": "2023-07-13T10:02:58.360Z"
   },
   {
    "duration": 1744,
    "start_time": "2023-07-13T10:03:20.277Z"
   },
   {
    "duration": 19329,
    "start_time": "2023-07-13T10:03:22.023Z"
   },
   {
    "duration": 12316,
    "start_time": "2023-07-13T10:03:41.354Z"
   },
   {
    "duration": 1181,
    "start_time": "2023-07-13T10:03:53.674Z"
   },
   {
    "duration": 9,
    "start_time": "2023-07-13T10:03:54.860Z"
   },
   {
    "duration": 5894,
    "start_time": "2023-07-13T10:03:54.873Z"
   },
   {
    "duration": 5907,
    "start_time": "2023-07-13T10:04:00.769Z"
   },
   {
    "duration": 803,
    "start_time": "2023-07-13T10:04:06.679Z"
   },
   {
    "duration": 3,
    "start_time": "2023-07-13T10:04:07.485Z"
   },
   {
    "duration": 2499,
    "start_time": "2023-07-13T10:04:07.558Z"
   },
   {
    "duration": 18,
    "start_time": "2023-07-13T10:04:10.059Z"
   },
   {
    "duration": 2994,
    "start_time": "2023-07-13T10:04:10.088Z"
   },
   {
    "duration": 5081,
    "start_time": "2023-07-13T10:04:13.084Z"
   },
   {
    "duration": 1026,
    "start_time": "2023-07-13T10:04:18.170Z"
   },
   {
    "duration": 0,
    "start_time": "2023-07-13T10:04:19.198Z"
   },
   {
    "duration": 0,
    "start_time": "2023-07-13T10:04:19.200Z"
   },
   {
    "duration": 0,
    "start_time": "2023-07-13T10:04:19.202Z"
   },
   {
    "duration": 0,
    "start_time": "2023-07-13T10:04:19.204Z"
   },
   {
    "duration": 0,
    "start_time": "2023-07-13T10:04:19.205Z"
   },
   {
    "duration": 0,
    "start_time": "2023-07-13T10:04:19.207Z"
   },
   {
    "duration": 0,
    "start_time": "2023-07-13T10:04:19.209Z"
   },
   {
    "duration": 0,
    "start_time": "2023-07-13T10:04:19.254Z"
   },
   {
    "duration": 0,
    "start_time": "2023-07-13T10:04:19.255Z"
   },
   {
    "duration": 0,
    "start_time": "2023-07-13T10:04:19.256Z"
   },
   {
    "duration": 0,
    "start_time": "2023-07-13T10:04:19.257Z"
   },
   {
    "duration": 0,
    "start_time": "2023-07-13T10:04:19.261Z"
   },
   {
    "duration": 0,
    "start_time": "2023-07-13T10:04:19.262Z"
   },
   {
    "duration": 0,
    "start_time": "2023-07-13T10:04:19.263Z"
   },
   {
    "duration": 0,
    "start_time": "2023-07-13T10:04:19.264Z"
   },
   {
    "duration": 166,
    "start_time": "2023-07-13T10:04:35.407Z"
   },
   {
    "duration": 1449,
    "start_time": "2023-07-13T10:04:59.781Z"
   },
   {
    "duration": 18426,
    "start_time": "2023-07-13T10:05:01.233Z"
   },
   {
    "duration": 13015,
    "start_time": "2023-07-13T10:05:19.662Z"
   },
   {
    "duration": 1026,
    "start_time": "2023-07-13T10:05:32.679Z"
   },
   {
    "duration": 13,
    "start_time": "2023-07-13T10:05:33.754Z"
   },
   {
    "duration": 5725,
    "start_time": "2023-07-13T10:05:33.769Z"
   },
   {
    "duration": 5671,
    "start_time": "2023-07-13T10:05:39.496Z"
   },
   {
    "duration": 808,
    "start_time": "2023-07-13T10:05:45.171Z"
   },
   {
    "duration": 4,
    "start_time": "2023-07-13T10:05:45.982Z"
   },
   {
    "duration": 2103,
    "start_time": "2023-07-13T10:05:45.988Z"
   },
   {
    "duration": 4,
    "start_time": "2023-07-13T10:05:48.093Z"
   },
   {
    "duration": 2177,
    "start_time": "2023-07-13T10:05:48.099Z"
   },
   {
    "duration": 4889,
    "start_time": "2023-07-13T10:05:50.280Z"
   },
   {
    "duration": 2101,
    "start_time": "2023-07-13T10:05:55.176Z"
   },
   {
    "duration": 2196,
    "start_time": "2023-07-13T10:05:57.279Z"
   },
   {
    "duration": 2114,
    "start_time": "2023-07-13T10:05:59.478Z"
   },
   {
    "duration": 0,
    "start_time": "2023-07-13T10:06:01.594Z"
   },
   {
    "duration": 0,
    "start_time": "2023-07-13T10:06:01.596Z"
   },
   {
    "duration": 0,
    "start_time": "2023-07-13T10:06:01.597Z"
   },
   {
    "duration": 0,
    "start_time": "2023-07-13T10:06:01.599Z"
   },
   {
    "duration": 0,
    "start_time": "2023-07-13T10:06:01.600Z"
   },
   {
    "duration": 0,
    "start_time": "2023-07-13T10:06:01.602Z"
   },
   {
    "duration": 0,
    "start_time": "2023-07-13T10:06:01.604Z"
   },
   {
    "duration": 0,
    "start_time": "2023-07-13T10:06:01.606Z"
   },
   {
    "duration": 0,
    "start_time": "2023-07-13T10:06:01.607Z"
   },
   {
    "duration": 0,
    "start_time": "2023-07-13T10:06:01.608Z"
   },
   {
    "duration": 0,
    "start_time": "2023-07-13T10:06:01.609Z"
   },
   {
    "duration": 0,
    "start_time": "2023-07-13T10:06:01.610Z"
   },
   {
    "duration": 0,
    "start_time": "2023-07-13T10:06:01.611Z"
   },
   {
    "duration": 1448,
    "start_time": "2023-07-13T10:10:33.631Z"
   },
   {
    "duration": 18077,
    "start_time": "2023-07-13T10:10:35.081Z"
   },
   {
    "duration": 11617,
    "start_time": "2023-07-13T10:10:53.160Z"
   },
   {
    "duration": 1114,
    "start_time": "2023-07-13T10:11:04.780Z"
   },
   {
    "duration": 11,
    "start_time": "2023-07-13T10:11:05.955Z"
   },
   {
    "duration": 5815,
    "start_time": "2023-07-13T10:11:05.972Z"
   },
   {
    "duration": 4864,
    "start_time": "2023-07-13T10:11:11.789Z"
   },
   {
    "duration": 734,
    "start_time": "2023-07-13T10:11:16.657Z"
   },
   {
    "duration": 63,
    "start_time": "2023-07-13T10:11:17.393Z"
   },
   {
    "duration": 2002,
    "start_time": "2023-07-13T10:11:17.459Z"
   },
   {
    "duration": 4,
    "start_time": "2023-07-13T10:11:19.463Z"
   },
   {
    "duration": 2219,
    "start_time": "2023-07-13T10:11:19.470Z"
   },
   {
    "duration": 4838,
    "start_time": "2023-07-13T10:11:21.691Z"
   },
   {
    "duration": 1845,
    "start_time": "2023-07-13T10:11:26.560Z"
   },
   {
    "duration": 1570,
    "start_time": "2023-07-13T10:11:28.408Z"
   },
   {
    "duration": 4096,
    "start_time": "2023-07-13T10:11:29.981Z"
   },
   {
    "duration": 118,
    "start_time": "2023-07-13T10:11:34.079Z"
   },
   {
    "duration": 1525,
    "start_time": "2023-07-13T10:11:34.252Z"
   },
   {
    "duration": 4688,
    "start_time": "2023-07-13T10:11:35.779Z"
   },
   {
    "duration": 1400,
    "start_time": "2023-07-13T10:11:40.470Z"
   },
   {
    "duration": 0,
    "start_time": "2023-07-13T10:11:41.876Z"
   },
   {
    "duration": 0,
    "start_time": "2023-07-13T10:11:41.878Z"
   },
   {
    "duration": 0,
    "start_time": "2023-07-13T10:11:41.879Z"
   },
   {
    "duration": 0,
    "start_time": "2023-07-13T10:11:41.880Z"
   },
   {
    "duration": 0,
    "start_time": "2023-07-13T10:11:41.882Z"
   },
   {
    "duration": 0,
    "start_time": "2023-07-13T10:11:41.883Z"
   },
   {
    "duration": 0,
    "start_time": "2023-07-13T10:11:41.884Z"
   },
   {
    "duration": 0,
    "start_time": "2023-07-13T10:11:41.889Z"
   },
   {
    "duration": 0,
    "start_time": "2023-07-13T10:11:41.890Z"
   },
   {
    "duration": 8,
    "start_time": "2023-07-13T10:13:44.950Z"
   },
   {
    "duration": 102,
    "start_time": "2023-07-13T10:13:44.972Z"
   },
   {
    "duration": 682,
    "start_time": "2023-07-13T10:13:45.076Z"
   },
   {
    "duration": 217,
    "start_time": "2023-07-13T10:13:45.759Z"
   },
   {
    "duration": 4,
    "start_time": "2023-07-13T10:13:45.983Z"
   },
   {
    "duration": 1881,
    "start_time": "2023-07-13T10:13:45.989Z"
   },
   {
    "duration": 2751,
    "start_time": "2023-07-13T10:13:47.875Z"
   },
   {
    "duration": 349,
    "start_time": "2023-07-13T10:13:50.628Z"
   },
   {
    "duration": 5,
    "start_time": "2023-07-13T10:13:50.979Z"
   },
   {
    "duration": 1199,
    "start_time": "2023-07-13T10:13:50.986Z"
   },
   {
    "duration": 5,
    "start_time": "2023-07-13T10:13:52.187Z"
   },
   {
    "duration": 888,
    "start_time": "2023-07-13T10:13:52.194Z"
   },
   {
    "duration": 2297,
    "start_time": "2023-07-13T10:13:53.084Z"
   },
   {
    "duration": 1097,
    "start_time": "2023-07-13T10:13:55.385Z"
   },
   {
    "duration": 906,
    "start_time": "2023-07-13T10:13:56.486Z"
   },
   {
    "duration": 2466,
    "start_time": "2023-07-13T10:13:57.394Z"
   },
   {
    "duration": 108,
    "start_time": "2023-07-13T10:13:59.861Z"
   },
   {
    "duration": 1030,
    "start_time": "2023-07-13T10:13:59.971Z"
   },
   {
    "duration": 2386,
    "start_time": "2023-07-13T10:14:01.003Z"
   },
   {
    "duration": 724,
    "start_time": "2023-07-13T10:14:03.391Z"
   },
   {
    "duration": 0,
    "start_time": "2023-07-13T10:14:04.118Z"
   },
   {
    "duration": 0,
    "start_time": "2023-07-13T10:14:04.120Z"
   },
   {
    "duration": 0,
    "start_time": "2023-07-13T10:14:04.122Z"
   },
   {
    "duration": 0,
    "start_time": "2023-07-13T10:14:04.123Z"
   },
   {
    "duration": 0,
    "start_time": "2023-07-13T10:14:04.124Z"
   },
   {
    "duration": 0,
    "start_time": "2023-07-13T10:14:04.126Z"
   },
   {
    "duration": 0,
    "start_time": "2023-07-13T10:14:04.128Z"
   },
   {
    "duration": 0,
    "start_time": "2023-07-13T10:14:04.129Z"
   },
   {
    "duration": 1,
    "start_time": "2023-07-13T10:14:04.130Z"
   },
   {
    "duration": 5,
    "start_time": "2023-07-13T10:22:45.022Z"
   },
   {
    "duration": 57,
    "start_time": "2023-07-13T10:22:45.029Z"
   },
   {
    "duration": 475,
    "start_time": "2023-07-13T10:22:45.129Z"
   },
   {
    "duration": 200,
    "start_time": "2023-07-13T10:22:45.606Z"
   },
   {
    "duration": 5,
    "start_time": "2023-07-13T10:22:45.808Z"
   },
   {
    "duration": 1457,
    "start_time": "2023-07-13T10:22:45.815Z"
   },
   {
    "duration": 2420,
    "start_time": "2023-07-13T10:22:47.279Z"
   },
   {
    "duration": 279,
    "start_time": "2023-07-13T10:22:49.701Z"
   },
   {
    "duration": 5,
    "start_time": "2023-07-13T10:22:49.989Z"
   },
   {
    "duration": 1208,
    "start_time": "2023-07-13T10:22:50.055Z"
   },
   {
    "duration": 13,
    "start_time": "2023-07-13T10:22:51.264Z"
   },
   {
    "duration": 893,
    "start_time": "2023-07-13T10:22:51.283Z"
   },
   {
    "duration": 2115,
    "start_time": "2023-07-13T10:22:52.182Z"
   },
   {
    "duration": 277,
    "start_time": "2023-07-13T10:23:26.945Z"
   },
   {
    "duration": 782,
    "start_time": "2023-07-13T10:25:02.545Z"
   },
   {
    "duration": 1653,
    "start_time": "2023-07-13T10:26:51.939Z"
   },
   {
    "duration": 19489,
    "start_time": "2023-07-13T10:26:53.595Z"
   },
   {
    "duration": 13667,
    "start_time": "2023-07-13T10:27:13.091Z"
   },
   {
    "duration": 1243,
    "start_time": "2023-07-13T10:27:26.760Z"
   },
   {
    "duration": 6,
    "start_time": "2023-07-13T10:27:28.007Z"
   },
   {
    "duration": 6979,
    "start_time": "2023-07-13T10:27:28.016Z"
   },
   {
    "duration": 6904,
    "start_time": "2023-07-13T10:27:35.006Z"
   },
   {
    "duration": 964,
    "start_time": "2023-07-13T10:27:41.917Z"
   },
   {
    "duration": 16,
    "start_time": "2023-07-13T10:27:42.883Z"
   },
   {
    "duration": 2007,
    "start_time": "2023-07-13T10:27:42.906Z"
   },
   {
    "duration": 15,
    "start_time": "2023-07-13T10:27:44.952Z"
   },
   {
    "duration": 2705,
    "start_time": "2023-07-13T10:27:44.970Z"
   },
   {
    "duration": 5243,
    "start_time": "2023-07-13T10:27:47.679Z"
   },
   {
    "duration": 2156,
    "start_time": "2023-07-13T10:27:52.926Z"
   },
   {
    "duration": 1734,
    "start_time": "2023-07-13T10:27:55.084Z"
   },
   {
    "duration": 5276,
    "start_time": "2023-07-13T10:27:56.821Z"
   },
   {
    "duration": 156,
    "start_time": "2023-07-13T10:28:02.101Z"
   },
   {
    "duration": 1918,
    "start_time": "2023-07-13T10:28:02.259Z"
   },
   {
    "duration": 4685,
    "start_time": "2023-07-13T10:28:04.179Z"
   },
   {
    "duration": 690,
    "start_time": "2023-07-13T10:28:08.871Z"
   },
   {
    "duration": 2293,
    "start_time": "2023-07-13T10:28:09.563Z"
   },
   {
    "duration": 914,
    "start_time": "2023-07-13T10:28:11.863Z"
   },
   {
    "duration": 19,
    "start_time": "2023-07-13T10:28:12.779Z"
   },
   {
    "duration": 1000,
    "start_time": "2023-07-13T10:28:12.801Z"
   },
   {
    "duration": 0,
    "start_time": "2023-07-13T10:28:13.804Z"
   },
   {
    "duration": 0,
    "start_time": "2023-07-13T10:28:13.806Z"
   },
   {
    "duration": 0,
    "start_time": "2023-07-13T10:28:13.808Z"
   },
   {
    "duration": 0,
    "start_time": "2023-07-13T10:28:13.810Z"
   },
   {
    "duration": 0,
    "start_time": "2023-07-13T10:28:13.811Z"
   },
   {
    "duration": 1546,
    "start_time": "2023-07-13T10:34:58.647Z"
   },
   {
    "duration": 19379,
    "start_time": "2023-07-13T10:35:00.195Z"
   },
   {
    "duration": 12279,
    "start_time": "2023-07-13T10:35:19.589Z"
   },
   {
    "duration": 1038,
    "start_time": "2023-07-13T10:35:31.870Z"
   },
   {
    "duration": 6,
    "start_time": "2023-07-13T10:35:32.911Z"
   },
   {
    "duration": 5969,
    "start_time": "2023-07-13T10:35:32.919Z"
   },
   {
    "duration": 6018,
    "start_time": "2023-07-13T10:35:38.894Z"
   },
   {
    "duration": 829,
    "start_time": "2023-07-13T10:35:44.960Z"
   },
   {
    "duration": 59,
    "start_time": "2023-07-13T10:35:45.792Z"
   },
   {
    "duration": 2337,
    "start_time": "2023-07-13T10:35:45.853Z"
   },
   {
    "duration": 65,
    "start_time": "2023-07-13T10:35:48.192Z"
   },
   {
    "duration": 2706,
    "start_time": "2023-07-13T10:35:48.259Z"
   },
   {
    "duration": 4613,
    "start_time": "2023-07-13T10:35:50.966Z"
   },
   {
    "duration": 2050,
    "start_time": "2023-07-13T10:35:55.582Z"
   },
   {
    "duration": 1906,
    "start_time": "2023-07-13T10:35:57.634Z"
   },
   {
    "duration": 4821,
    "start_time": "2023-07-13T10:35:59.542Z"
   },
   {
    "duration": 96,
    "start_time": "2023-07-13T10:36:04.365Z"
   },
   {
    "duration": 1658,
    "start_time": "2023-07-13T10:36:04.463Z"
   },
   {
    "duration": 4324,
    "start_time": "2023-07-13T10:36:06.157Z"
   },
   {
    "duration": 975,
    "start_time": "2023-07-13T10:36:10.482Z"
   },
   {
    "duration": 2354,
    "start_time": "2023-07-13T10:36:11.458Z"
   },
   {
    "duration": 673,
    "start_time": "2023-07-13T10:36:13.815Z"
   },
   {
    "duration": 68,
    "start_time": "2023-07-13T10:36:14.491Z"
   },
   {
    "duration": 1086,
    "start_time": "2023-07-13T10:36:14.561Z"
   },
   {
    "duration": 0,
    "start_time": "2023-07-13T10:36:15.649Z"
   },
   {
    "duration": 0,
    "start_time": "2023-07-13T10:36:15.651Z"
   },
   {
    "duration": 0,
    "start_time": "2023-07-13T10:36:15.651Z"
   },
   {
    "duration": 0,
    "start_time": "2023-07-13T10:36:15.658Z"
   },
   {
    "duration": 0,
    "start_time": "2023-07-13T10:36:15.658Z"
   },
   {
    "duration": 1634,
    "start_time": "2023-07-16T10:33:52.559Z"
   },
   {
    "duration": 20884,
    "start_time": "2023-07-16T10:33:54.195Z"
   },
   {
    "duration": 11502,
    "start_time": "2023-07-16T10:34:15.082Z"
   },
   {
    "duration": 909,
    "start_time": "2023-07-16T10:34:26.588Z"
   },
   {
    "duration": 6,
    "start_time": "2023-07-16T10:34:27.500Z"
   },
   {
    "duration": 5400,
    "start_time": "2023-07-16T10:34:27.560Z"
   },
   {
    "duration": 4809,
    "start_time": "2023-07-16T10:34:32.962Z"
   },
   {
    "duration": 810,
    "start_time": "2023-07-16T10:34:37.773Z"
   },
   {
    "duration": 2,
    "start_time": "2023-07-16T10:34:38.585Z"
   },
   {
    "duration": 1689,
    "start_time": "2023-07-16T10:34:38.590Z"
   },
   {
    "duration": 5,
    "start_time": "2023-07-16T10:34:40.281Z"
   },
   {
    "duration": 2116,
    "start_time": "2023-07-16T10:34:40.360Z"
   },
   {
    "duration": 3211,
    "start_time": "2023-07-16T10:34:42.479Z"
   },
   {
    "duration": 1766,
    "start_time": "2023-07-16T10:34:45.693Z"
   },
   {
    "duration": 2028,
    "start_time": "2023-07-16T10:34:47.461Z"
   },
   {
    "duration": 3989,
    "start_time": "2023-07-16T10:34:49.492Z"
   },
   {
    "duration": 95,
    "start_time": "2023-07-16T10:34:53.483Z"
   },
   {
    "duration": 1394,
    "start_time": "2023-07-16T10:34:53.580Z"
   },
   {
    "duration": 3384,
    "start_time": "2023-07-16T10:34:54.977Z"
   },
   {
    "duration": 603,
    "start_time": "2023-07-16T10:34:58.363Z"
   },
   {
    "duration": 1697,
    "start_time": "2023-07-16T10:34:58.969Z"
   },
   {
    "duration": 604,
    "start_time": "2023-07-16T10:35:00.668Z"
   },
   {
    "duration": 13,
    "start_time": "2023-07-16T10:35:01.274Z"
   },
   {
    "duration": 1022,
    "start_time": "2023-07-16T10:35:01.289Z"
   },
   {
    "duration": 0,
    "start_time": "2023-07-16T10:35:02.313Z"
   },
   {
    "duration": 0,
    "start_time": "2023-07-16T10:35:02.316Z"
   },
   {
    "duration": 0,
    "start_time": "2023-07-16T10:35:02.317Z"
   },
   {
    "duration": 0,
    "start_time": "2023-07-16T10:35:02.319Z"
   },
   {
    "duration": 0,
    "start_time": "2023-07-16T10:35:02.359Z"
   },
   {
    "duration": 1219,
    "start_time": "2023-07-16T10:43:05.706Z"
   },
   {
    "duration": 16065,
    "start_time": "2023-07-16T10:43:06.927Z"
   },
   {
    "duration": 9779,
    "start_time": "2023-07-16T10:43:22.994Z"
   },
   {
    "duration": 820,
    "start_time": "2023-07-16T10:43:32.776Z"
   },
   {
    "duration": 5,
    "start_time": "2023-07-16T10:43:33.597Z"
   },
   {
    "duration": 5088,
    "start_time": "2023-07-16T10:43:33.604Z"
   },
   {
    "duration": 4173,
    "start_time": "2023-07-16T10:43:38.694Z"
   },
   {
    "duration": 690,
    "start_time": "2023-07-16T10:43:42.869Z"
   },
   {
    "duration": 3,
    "start_time": "2023-07-16T10:43:43.561Z"
   },
   {
    "duration": 1692,
    "start_time": "2023-07-16T10:43:43.568Z"
   },
   {
    "duration": 5,
    "start_time": "2023-07-16T10:43:45.262Z"
   },
   {
    "duration": 2020,
    "start_time": "2023-07-16T10:43:45.270Z"
   },
   {
    "duration": 3018,
    "start_time": "2023-07-16T10:43:47.360Z"
   },
   {
    "duration": 1508,
    "start_time": "2023-07-16T10:43:50.379Z"
   },
   {
    "duration": 1580,
    "start_time": "2023-07-16T10:43:51.889Z"
   },
   {
    "duration": 2730,
    "start_time": "2023-07-16T10:43:53.472Z"
   },
   {
    "duration": 155,
    "start_time": "2023-07-16T10:43:56.204Z"
   },
   {
    "duration": 1310,
    "start_time": "2023-07-16T10:43:56.361Z"
   },
   {
    "duration": 3819,
    "start_time": "2023-07-16T10:43:57.673Z"
   },
   {
    "duration": 776,
    "start_time": "2023-07-16T10:44:01.495Z"
   },
   {
    "duration": 2301,
    "start_time": "2023-07-16T10:44:02.274Z"
   },
   {
    "duration": 585,
    "start_time": "2023-07-16T10:44:04.577Z"
   },
   {
    "duration": 11,
    "start_time": "2023-07-16T10:44:05.164Z"
   },
   {
    "duration": 1099,
    "start_time": "2023-07-16T10:44:05.177Z"
   },
   {
    "duration": 0,
    "start_time": "2023-07-16T10:44:06.278Z"
   },
   {
    "duration": 0,
    "start_time": "2023-07-16T10:44:06.283Z"
   },
   {
    "duration": 0,
    "start_time": "2023-07-16T10:44:06.284Z"
   },
   {
    "duration": 0,
    "start_time": "2023-07-16T10:44:06.285Z"
   },
   {
    "duration": 0,
    "start_time": "2023-07-16T10:44:06.287Z"
   },
   {
    "duration": 120,
    "start_time": "2023-07-16T10:45:21.515Z"
   },
   {
    "duration": 1317,
    "start_time": "2023-07-16T10:45:32.199Z"
   },
   {
    "duration": 16365,
    "start_time": "2023-07-16T10:45:33.518Z"
   },
   {
    "duration": 9794,
    "start_time": "2023-07-16T10:45:49.886Z"
   },
   {
    "duration": 1016,
    "start_time": "2023-07-16T10:45:59.684Z"
   },
   {
    "duration": 63,
    "start_time": "2023-07-16T10:46:00.702Z"
   },
   {
    "duration": 5507,
    "start_time": "2023-07-16T10:46:00.766Z"
   },
   {
    "duration": 4128,
    "start_time": "2023-07-16T10:46:06.275Z"
   },
   {
    "duration": 707,
    "start_time": "2023-07-16T10:46:10.460Z"
   },
   {
    "duration": 4,
    "start_time": "2023-07-16T10:46:11.168Z"
   },
   {
    "duration": 1789,
    "start_time": "2023-07-16T10:46:11.173Z"
   },
   {
    "duration": 4,
    "start_time": "2023-07-16T10:46:12.965Z"
   },
   {
    "duration": 2009,
    "start_time": "2023-07-16T10:46:12.972Z"
   },
   {
    "duration": 3677,
    "start_time": "2023-07-16T10:46:14.984Z"
   },
   {
    "duration": 1819,
    "start_time": "2023-07-16T10:46:18.663Z"
   },
   {
    "duration": 1390,
    "start_time": "2023-07-16T10:46:20.484Z"
   },
   {
    "duration": 2817,
    "start_time": "2023-07-16T10:46:21.877Z"
   },
   {
    "duration": 100,
    "start_time": "2023-07-16T10:46:24.759Z"
   },
   {
    "duration": 1499,
    "start_time": "2023-07-16T10:46:24.862Z"
   },
   {
    "duration": 4002,
    "start_time": "2023-07-16T10:46:26.364Z"
   },
   {
    "duration": 714,
    "start_time": "2023-07-16T10:46:30.368Z"
   },
   {
    "duration": 2805,
    "start_time": "2023-07-16T10:46:31.085Z"
   },
   {
    "duration": 679,
    "start_time": "2023-07-16T10:46:33.892Z"
   },
   {
    "duration": 10,
    "start_time": "2023-07-16T10:46:34.573Z"
   },
   {
    "duration": 1236,
    "start_time": "2023-07-16T10:46:34.585Z"
   },
   {
    "duration": 0,
    "start_time": "2023-07-16T10:46:35.860Z"
   },
   {
    "duration": 0,
    "start_time": "2023-07-16T10:46:35.862Z"
   },
   {
    "duration": 0,
    "start_time": "2023-07-16T10:46:35.864Z"
   },
   {
    "duration": 0,
    "start_time": "2023-07-16T10:46:35.865Z"
   },
   {
    "duration": 0,
    "start_time": "2023-07-16T10:46:35.867Z"
   },
   {
    "duration": 4,
    "start_time": "2023-07-16T10:48:34.604Z"
   },
   {
    "duration": 23,
    "start_time": "2023-07-16T10:48:34.611Z"
   },
   {
    "duration": 540,
    "start_time": "2023-07-16T10:48:34.636Z"
   },
   {
    "duration": 229,
    "start_time": "2023-07-16T10:48:35.178Z"
   },
   {
    "duration": 5,
    "start_time": "2023-07-16T10:48:35.458Z"
   },
   {
    "duration": 1310,
    "start_time": "2023-07-16T10:48:35.464Z"
   },
   {
    "duration": 2808,
    "start_time": "2023-07-16T10:48:36.776Z"
   },
   {
    "duration": 481,
    "start_time": "2023-07-16T10:48:39.586Z"
   },
   {
    "duration": 3,
    "start_time": "2023-07-16T10:48:40.070Z"
   },
   {
    "duration": 1309,
    "start_time": "2023-07-16T10:48:40.077Z"
   },
   {
    "duration": 8,
    "start_time": "2023-07-16T10:48:41.388Z"
   },
   {
    "duration": 777,
    "start_time": "2023-07-16T10:48:41.398Z"
   },
   {
    "duration": 1434,
    "start_time": "2023-07-16T10:48:42.177Z"
   },
   {
    "duration": 1047,
    "start_time": "2023-07-16T10:48:43.615Z"
   },
   {
    "duration": 928,
    "start_time": "2023-07-16T10:48:44.665Z"
   },
   {
    "duration": 1837,
    "start_time": "2023-07-16T10:48:45.596Z"
   },
   {
    "duration": 53,
    "start_time": "2023-07-16T10:48:47.435Z"
   },
   {
    "duration": 971,
    "start_time": "2023-07-16T10:48:47.490Z"
   },
   {
    "duration": 2018,
    "start_time": "2023-07-16T10:48:48.463Z"
   },
   {
    "duration": 542,
    "start_time": "2023-07-16T10:48:50.484Z"
   },
   {
    "duration": 1847,
    "start_time": "2023-07-16T10:48:51.028Z"
   },
   {
    "duration": 407,
    "start_time": "2023-07-16T10:48:52.878Z"
   },
   {
    "duration": 8,
    "start_time": "2023-07-16T10:48:53.287Z"
   },
   {
    "duration": 701,
    "start_time": "2023-07-16T10:48:53.297Z"
   },
   {
    "duration": 0,
    "start_time": "2023-07-16T10:48:54.001Z"
   },
   {
    "duration": 0,
    "start_time": "2023-07-16T10:48:54.002Z"
   },
   {
    "duration": 0,
    "start_time": "2023-07-16T10:48:54.004Z"
   },
   {
    "duration": 0,
    "start_time": "2023-07-16T10:48:54.005Z"
   },
   {
    "duration": 0,
    "start_time": "2023-07-16T10:48:54.007Z"
   },
   {
    "duration": 162,
    "start_time": "2023-07-16T10:50:43.386Z"
   },
   {
    "duration": 0,
    "start_time": "2023-07-16T10:50:43.551Z"
   },
   {
    "duration": 0,
    "start_time": "2023-07-16T10:50:43.552Z"
   },
   {
    "duration": 0,
    "start_time": "2023-07-16T10:50:43.554Z"
   },
   {
    "duration": 0,
    "start_time": "2023-07-16T10:50:43.555Z"
   },
   {
    "duration": 0,
    "start_time": "2023-07-16T10:50:43.557Z"
   },
   {
    "duration": 0,
    "start_time": "2023-07-16T10:50:43.558Z"
   },
   {
    "duration": 0,
    "start_time": "2023-07-16T10:50:43.560Z"
   },
   {
    "duration": 0,
    "start_time": "2023-07-16T10:50:43.561Z"
   },
   {
    "duration": 0,
    "start_time": "2023-07-16T10:50:43.562Z"
   },
   {
    "duration": 0,
    "start_time": "2023-07-16T10:50:43.563Z"
   },
   {
    "duration": 0,
    "start_time": "2023-07-16T10:50:43.564Z"
   },
   {
    "duration": 0,
    "start_time": "2023-07-16T10:50:43.565Z"
   },
   {
    "duration": 0,
    "start_time": "2023-07-16T10:50:43.567Z"
   },
   {
    "duration": 0,
    "start_time": "2023-07-16T10:50:43.569Z"
   },
   {
    "duration": 0,
    "start_time": "2023-07-16T10:50:43.571Z"
   },
   {
    "duration": 0,
    "start_time": "2023-07-16T10:50:43.572Z"
   },
   {
    "duration": 1235,
    "start_time": "2023-07-16T10:52:05.400Z"
   },
   {
    "duration": 16931,
    "start_time": "2023-07-16T10:52:06.638Z"
   },
   {
    "duration": 10716,
    "start_time": "2023-07-16T10:52:23.572Z"
   },
   {
    "duration": 1012,
    "start_time": "2023-07-16T10:52:34.291Z"
   },
   {
    "duration": 13,
    "start_time": "2023-07-16T10:52:35.358Z"
   },
   {
    "duration": 6104,
    "start_time": "2023-07-16T10:52:35.380Z"
   },
   {
    "duration": 5677,
    "start_time": "2023-07-16T10:52:41.486Z"
   },
   {
    "duration": 702,
    "start_time": "2023-07-16T10:52:47.165Z"
   },
   {
    "duration": 3,
    "start_time": "2023-07-16T10:52:47.870Z"
   },
   {
    "duration": 1886,
    "start_time": "2023-07-16T10:52:47.876Z"
   },
   {
    "duration": 5,
    "start_time": "2023-07-16T10:52:49.764Z"
   },
   {
    "duration": 1899,
    "start_time": "2023-07-16T10:52:49.771Z"
   },
   {
    "duration": 3590,
    "start_time": "2023-07-16T10:52:51.672Z"
   },
   {
    "duration": 1722,
    "start_time": "2023-07-16T10:52:55.264Z"
   },
   {
    "duration": 1980,
    "start_time": "2023-07-16T10:52:56.988Z"
   },
   {
    "duration": 3791,
    "start_time": "2023-07-16T10:52:58.970Z"
   },
   {
    "duration": 230,
    "start_time": "2023-07-16T10:53:02.763Z"
   },
   {
    "duration": 1899,
    "start_time": "2023-07-16T10:53:02.996Z"
   },
   {
    "duration": 4095,
    "start_time": "2023-07-16T10:53:04.898Z"
   },
   {
    "duration": 791,
    "start_time": "2023-07-16T10:53:08.995Z"
   },
   {
    "duration": 2593,
    "start_time": "2023-07-16T10:53:09.788Z"
   },
   {
    "duration": 628,
    "start_time": "2023-07-16T10:53:12.383Z"
   },
   {
    "duration": 54,
    "start_time": "2023-07-16T10:53:13.013Z"
   },
   {
    "duration": 728,
    "start_time": "2023-07-16T10:53:13.069Z"
   },
   {
    "duration": 783,
    "start_time": "2023-07-16T10:53:13.799Z"
   },
   {
    "duration": 611,
    "start_time": "2023-07-16T10:53:14.585Z"
   },
   {
    "duration": 594,
    "start_time": "2023-07-16T10:53:15.199Z"
   },
   {
    "duration": 580,
    "start_time": "2023-07-16T10:53:15.798Z"
   },
   {
    "duration": 506,
    "start_time": "2023-07-16T10:53:16.380Z"
   }
  ],
  "colab": {
   "name": "PySparkSprint.ipynb",
   "provenance": []
  },
  "kernelspec": {
   "display_name": "Python 3 (ipykernel)",
   "language": "python",
   "name": "python3"
  },
  "language_info": {
   "codemirror_mode": {
    "name": "ipython",
    "version": 3
   },
   "file_extension": ".py",
   "mimetype": "text/x-python",
   "name": "python",
   "nbconvert_exporter": "python",
   "pygments_lexer": "ipython3",
   "version": "3.9.7"
  },
  "toc": {
   "base_numbering": 1,
   "nav_menu": {},
   "number_sections": true,
   "sideBar": true,
   "skip_h1_title": true,
   "title_cell": "Table of Contents",
   "title_sidebar": "Contents",
   "toc_cell": false,
   "toc_position": {},
   "toc_section_display": true,
   "toc_window_display": true
  }
 },
 "nbformat": 4,
 "nbformat_minor": 5
}
